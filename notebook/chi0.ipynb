{
 "cells": [
  {
   "cell_type": "markdown",
   "metadata": {},
   "source": [
    "# Compress frequency dependence of chi0"
   ]
  },
  {
   "cell_type": "code",
   "execution_count": null,
   "metadata": {},
   "outputs": [],
   "source": [
    "using Revise\n",
    "using Plots\n",
    "using LinearAlgebra\n",
    "using SparseIR\n",
    "import SparseIR: valueim\n",
    "\n",
    "newaxis = [CartesianIndex()]"
   ]
  },
  {
   "cell_type": "code",
   "execution_count": null,
   "metadata": {},
   "outputs": [],
   "source": [
    "BLAS.set_num_threads(16)"
   ]
  },
  {
   "cell_type": "code",
   "execution_count": null,
   "metadata": {},
   "outputs": [],
   "source": [
    "println(Threads.nthreads())"
   ]
  },
  {
   "cell_type": "code",
   "execution_count": null,
   "metadata": {},
   "outputs": [],
   "source": [
    "using ITensors\n",
    "\n",
    "println(ITensors.blas_get_num_threads())"
   ]
  },
  {
   "cell_type": "code",
   "execution_count": null,
   "metadata": {},
   "outputs": [],
   "source": [
    "beta = 10.0"
   ]
  },
  {
   "cell_type": "code",
   "execution_count": null,
   "metadata": {},
   "outputs": [],
   "source": [
    "# pole\n",
    "pole = 1.0\n",
    "calc_giv(v::FermionicFreq) = 1 / (valueim(v, beta) - pole)\n",
    "calc_chi0(v::FermionicFreq, w::BosonicFreq) = calc_giv(v) * calc_giv(v + w)"
   ]
  },
  {
   "cell_type": "code",
   "execution_count": null,
   "metadata": {},
   "outputs": [],
   "source": [
    "N = 8\n",
    "half_N = N ÷ 2\n",
    "nw = 2^N\n",
    "half_nw = 2^(N-1)\n",
    "nw"
   ]
  },
  {
   "cell_type": "code",
   "execution_count": null,
   "metadata": {},
   "outputs": [],
   "source": [
    "# (fermionic freqs, bosonic freqs)\n",
    "v = FermionicFreq.(2 .* collect(0:(nw-1)) .+ 1)\n",
    "w = BosonicFreq.(2 .* collect((1-nw):0))\n",
    "chi0 = calc_chi0.(v[:, newaxis], w[newaxis, :])\n",
    "\n",
    "heatmap(abs.(chi0), c = :balance)"
   ]
  },
  {
   "cell_type": "code",
   "execution_count": null,
   "metadata": {},
   "outputs": [],
   "source": [
    "# (f_1, ..., f_N, b_1, ..., b_N)\n",
    "# The indices f_1 and b_1 correspond to the smallest scale in the momentum space.\n",
    "# The indices f_N and b_N correspond to the largest scale in the momentum space.\n",
    "tensor = reshape(chi0, repeat([2,], 2*N)...)\n",
    ";"
   ]
  },
  {
   "cell_type": "code",
   "execution_count": null,
   "metadata": {},
   "outputs": [],
   "source": [
    "# Rearrange the indices so that indices for larger length scales are to the right.\n",
    "# ( (f_1, f_2), ...., (b_1, b_N))\n",
    "dims = Int[]\n",
    "for i in 1:N\n",
    "    push!(dims, i)\n",
    "    push!(dims, i+N)\n",
    "end\n",
    "println(dims)\n",
    "tensor = reshape(permutedims(tensor, dims), repeat([4,], N)...)\n",
    ";"
   ]
  },
  {
   "cell_type": "code",
   "execution_count": null,
   "metadata": {},
   "outputs": [],
   "source": [
    "u, s, vt = svd(reshape(tensor, :, 4^half_N))\n",
    ";"
   ]
  },
  {
   "cell_type": "code",
   "execution_count": null,
   "metadata": {},
   "outputs": [],
   "source": [
    "plot(s./s[1], yaxis=:log, xlims=(0, 4^half_N))"
   ]
  },
  {
   "cell_type": "code",
   "execution_count": null,
   "metadata": {},
   "outputs": [],
   "source": [
    "sites = siteinds(4, N)"
   ]
  },
  {
   "cell_type": "code",
   "execution_count": null,
   "metadata": {},
   "outputs": [],
   "source": [
    "cutoff = 1E-10\n",
    "maxdim = 100\n",
    "M = MPS(tensor, sites; cutoff=cutoff, maxdim=maxdim)"
   ]
  },
  {
   "cell_type": "code",
   "execution_count": null,
   "metadata": {},
   "outputs": [],
   "source": [
    "tensor_reconst = Array(reduce(*, M), sites...)\n",
    ";"
   ]
  },
  {
   "cell_type": "code",
   "execution_count": null,
   "metadata": {},
   "outputs": [],
   "source": [
    "plot(abs.(vec(tensor_reconst) .- vec(tensor)))"
   ]
  },
  {
   "cell_type": "code",
   "execution_count": null,
   "metadata": {},
   "outputs": [],
   "source": [
    "bonddims = collect(size(m)[1] for m in M)\n",
    "plot(bonddims, marker=:x)"
   ]
  },
  {
   "cell_type": "code",
   "execution_count": null,
   "metadata": {},
   "outputs": [],
   "source": []
  },
  {
   "cell_type": "code",
   "execution_count": null,
   "metadata": {},
   "outputs": [],
   "source": []
  }
 ],
 "metadata": {
  "kernelspec": {
   "display_name": "Julia 1.7.3",
   "language": "julia",
   "name": "julia-1.7"
  },
  "language_info": {
   "file_extension": ".jl",
   "mimetype": "application/julia",
   "name": "julia",
   "version": "1.7.3"
  },
  "orig_nbformat": 4
 },
 "nbformat": 4,
 "nbformat_minor": 2
}
