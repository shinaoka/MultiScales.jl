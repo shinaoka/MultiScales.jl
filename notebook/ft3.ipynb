{
 "cells": [
  {
   "cell_type": "markdown",
   "metadata": {},
   "source": [
    "# Fourier transform"
   ]
  },
  {
   "cell_type": "code",
   "execution_count": 31,
   "metadata": {},
   "outputs": [
    {
     "data": {
      "text/plain": [
       "1-element Vector{CartesianIndex{0}}:\n",
       " CartesianIndex()"
      ]
     },
     "metadata": {},
     "output_type": "display_data"
    }
   ],
   "source": [
    "using Revise\n",
    "using Plots\n",
    "using LinearAlgebra\n",
    "using SparseIR\n",
    "import SparseIR: valueim\n",
    "using MultiScales\n",
    "\n",
    "newaxis = [CartesianIndex()]"
   ]
  },
  {
   "cell_type": "code",
   "execution_count": 32,
   "metadata": {},
   "outputs": [],
   "source": [
    "BLAS.set_num_threads(16)"
   ]
  },
  {
   "cell_type": "code",
   "execution_count": 33,
   "metadata": {},
   "outputs": [
    {
     "name": "stdout",
     "output_type": "stream",
     "text": [
      "1\n"
     ]
    }
   ],
   "source": [
    "println(Threads.nthreads())"
   ]
  },
  {
   "cell_type": "code",
   "execution_count": 34,
   "metadata": {},
   "outputs": [
    {
     "name": "stdout",
     "output_type": "stream",
     "text": [
      "16\n"
     ]
    }
   ],
   "source": [
    "using ITensors\n",
    "\n",
    "println(ITensors.blas_get_num_threads())"
   ]
  },
  {
   "cell_type": "code",
   "execution_count": 35,
   "metadata": {},
   "outputs": [
    {
     "data": {
      "text/plain": [
       "MPO\n",
       "[1] ((dim=2|id=776|\"Qubit,Site,n=1\"), (dim=2|id=776|\"Qubit,Site,n=1\")', (dim=2|id=399|\"Link,n=1\"))\n",
       "[2] ((dim=2|id=399|\"Link,n=1\"), (dim=2|id=80|\"Qubit,Site,n=2\"), (dim=2|id=80|\"Qubit,Site,n=2\")', (dim=4|id=39|\"Link,n=2\"))\n",
       "[3] ((dim=4|id=39|\"Link,n=2\"), (dim=2|id=683|\"Qubit,Site,n=3\"), (dim=2|id=683|\"Qubit,Site,n=3\")', (dim=2|id=643|\"Link,n=3\"))\n",
       "[4] ((dim=2|id=643|\"Link,n=3\"), (dim=2|id=65|\"Qubit,Site,n=4\"), (dim=2|id=65|\"Qubit,Site,n=4\")')\n"
      ]
     },
     "metadata": {},
     "output_type": "display_data"
    }
   ],
   "source": [
    "nbit = 4\n",
    "N = 2^nbit\n",
    "\n",
    "sites = siteinds(\"Qubit\", nbit)\n",
    "M = MultiScales._qft(sites)"
   ]
  },
  {
   "cell_type": "code",
   "execution_count": 36,
   "metadata": {},
   "outputs": [],
   "source": [
    "# Return the bit of an integer `i` at the position `pos` (`pos=1` is the least significant digit).\n",
    "bitat(i, pos) = ((i & 1<<(pos-1))>>(pos-1))\n",
    "@assert bitat(2, 1) == 0\n",
    "@assert bitat(2, 2) == 1"
   ]
  },
  {
   "cell_type": "code",
   "execution_count": 37,
   "metadata": {},
   "outputs": [
    {
     "name": "stdout",
     "output_type": "stream",
     "text": [
      "tmp = [\"0\", \"0\", \"1\", \"0\"]\n"
     ]
    },
    {
     "data": {
      "text/plain": [
       "4-element Vector{String}:\n",
       " \"0\"\n",
       " \"0\"\n",
       " \"1\"\n",
       " \"0\""
      ]
     },
     "metadata": {},
     "output_type": "display_data"
    }
   ],
   "source": [
    "# Input function `f(x)` is 1 only at xin otherwise 0.\n",
    "xin = 3 # 1-start\n",
    "@assert xin <= N\n",
    "tmp = collect(string(bitat(xin-1, pos)) for pos in nbit:-1:1)\n",
    "mpsf = MPS(sites, tmp)\n",
    "@show tmp"
   ]
  },
  {
   "cell_type": "code",
   "execution_count": 38,
   "metadata": {},
   "outputs": [],
   "source": [
    "#reduce(*, mpsf)[sites[1]=>1, sites[2]=>2]"
   ]
  },
  {
   "cell_type": "code",
   "execution_count": 39,
   "metadata": {},
   "outputs": [
    {
     "data": {
      "text/plain": [
       "16-element Vector{ComplexF64}:\n",
       "     0.25000000000000017 + 6.400983057067571e-17im\n",
       "     0.17677669529663692 + 0.17677669529663698im\n",
       " -2.5389538253082465e-17 + 0.25000000000000017im\n",
       "    -0.17677669529663714 + 0.1767766952966369im\n",
       "     -0.2500000000000004 - 2.056573309268645e-16im\n",
       "    -0.17677669529663756 - 0.17677669529663703im\n",
       "   7.097585253283989e-17 - 0.2500000000000003im\n",
       "      0.1767766952966369 - 0.17677669529663725im\n",
       "      0.2500000000000001 - 6.172552310525105e-17im\n",
       "     0.17677669529663698 + 0.17677669529663687im\n",
       "  1.3104908732216735e-16 + 0.2500000000000001im\n",
       "    -0.17677669529663703 + 0.176776695296637im\n",
       "     -0.2500000000000003 + 3.5056919146304366e-16im\n",
       "    -0.17677669529663723 - 0.1767766952966368im\n",
       " -4.9065389333867966e-17 - 0.2500000000000002im\n",
       "     0.17677669529663678 - 0.1767766952966373im"
      ]
     },
     "metadata": {},
     "output_type": "display_data"
    }
   ],
   "source": [
    "# Physical indices from lef to right: t_Q, ..., t_1\n",
    "mpsg = reduce(*, noprime(contract(M, mpsf)))\n",
    "\n",
    "# Values of output function\n",
    "outfunc = vec(Array(mpsg, sites))"
   ]
  },
  {
   "cell_type": "code",
   "execution_count": 40,
   "metadata": {},
   "outputs": [],
   "source": [
    "sign = 1\n",
    "@assert outfunc ≈ [exp(sign * im * 2π * (t-1) * (xin-1)/N)/sqrt(N) for t in 1:N]"
   ]
  },
  {
   "cell_type": "code",
   "execution_count": 41,
   "metadata": {},
   "outputs": [],
   "source": []
  },
  {
   "cell_type": "code",
   "execution_count": 42,
   "metadata": {},
   "outputs": [],
   "source": []
  },
  {
   "cell_type": "code",
   "execution_count": 43,
   "metadata": {},
   "outputs": [],
   "source": []
  },
  {
   "cell_type": "code",
   "execution_count": 44,
   "metadata": {},
   "outputs": [],
   "source": []
  },
  {
   "cell_type": "code",
   "execution_count": 45,
   "metadata": {},
   "outputs": [],
   "source": []
  }
 ],
 "metadata": {
  "kernelspec": {
   "display_name": "Julia 1.7.3",
   "language": "julia",
   "name": "julia-1.7"
  },
  "language_info": {
   "file_extension": ".jl",
   "mimetype": "application/julia",
   "name": "julia",
   "version": "1.7.3"
  },
  "orig_nbformat": 4
 },
 "nbformat": 4,
 "nbformat_minor": 2
}
