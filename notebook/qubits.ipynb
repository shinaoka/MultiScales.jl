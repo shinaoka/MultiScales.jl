{
 "cells": [
  {
   "cell_type": "markdown",
   "metadata": {},
   "source": [
    "# Qubit operations"
   ]
  },
  {
   "cell_type": "code",
   "execution_count": 2,
   "metadata": {},
   "outputs": [
    {
     "data": {
      "text/plain": [
       "1-element Vector{CartesianIndex{0}}:\n",
       " CartesianIndex()"
      ]
     },
     "metadata": {},
     "output_type": "display_data"
    }
   ],
   "source": [
    "using Revise\n",
    "using Plots\n",
    "using LinearAlgebra\n",
    "using MultiScales\n",
    "\n",
    "newaxis = [CartesianIndex()]"
   ]
  },
  {
   "cell_type": "code",
   "execution_count": 3,
   "metadata": {},
   "outputs": [
    {
     "name": "stdout",
     "output_type": "stream",
     "text": [
      "1\n"
     ]
    }
   ],
   "source": [
    "using ITensors\n",
    "\n",
    "println(ITensors.blas_get_num_threads())"
   ]
  },
  {
   "cell_type": "code",
   "execution_count": 4,
   "metadata": {},
   "outputs": [
    {
     "data": {
      "text/plain": [
       "eval (generic function with 2 methods)"
      ]
     },
     "metadata": {},
     "output_type": "display_data"
    }
   ],
   "source": [
    "function eval(psi, sites, el)\n",
    "    V = ITensor(1.)\n",
    "    for j=1:length(el)\n",
    "        V *= (psi[j] * state(sites[j], el[j]))\n",
    "    end\n",
    "    return scalar(V)\n",
    "end"
   ]
  },
  {
   "cell_type": "code",
   "execution_count": 10,
   "metadata": {},
   "outputs": [
    {
     "data": {
      "text/plain": [
       "1-element Vector{Index{Int64}}:\n",
       " (dim=2|id=669|\"Qubit,Site,n=1\")"
      ]
     },
     "metadata": {},
     "output_type": "display_data"
    }
   ],
   "source": [
    "nbit = 1\n",
    "N = 2^nbit\n",
    "\n",
    "sites = siteinds(\"Qubit\", nbit)"
   ]
  },
  {
   "cell_type": "code",
   "execution_count": 11,
   "metadata": {},
   "outputs": [],
   "source": [
    "Z = [op(\"Z\", sites, n) for n in 1:nbit]\n",
    ";"
   ]
  },
  {
   "cell_type": "code",
   "execution_count": 12,
   "metadata": {},
   "outputs": [
    {
     "data": {
      "text/plain": [
       "MPS\n",
       "[1] ((dim=2|id=669|\"Qubit,Site,n=1\"),)\n"
      ]
     },
     "metadata": {},
     "output_type": "display_data"
    }
   ],
   "source": [
    "mps = MPS(sites, [\"1\" for n in 1:nbit])"
   ]
  },
  {
   "cell_type": "code",
   "execution_count": 13,
   "metadata": {},
   "outputs": [
    {
     "data": {
      "text/plain": [
       "MPO\n",
       "[1] ((dim=2|id=669|\"Qubit,Site,n=1\")', (dim=2|id=669|\"Qubit,Site,n=1\"))\n"
      ]
     },
     "metadata": {},
     "output_type": "display_data"
    }
   ],
   "source": [
    "M = MPO(sites, [\"Z\" for n in 1:nbit])"
   ]
  },
  {
   "cell_type": "code",
   "execution_count": 14,
   "metadata": {},
   "outputs": [
    {
     "data": {
      "text/plain": [
       "MPO\n",
       "[1] ((dim=2|id=669|\"Qubit,Site,n=1\")', (dim=2|id=669|\"Qubit,Site,n=1\"))\n"
      ]
     },
     "metadata": {},
     "output_type": "display_data"
    }
   ],
   "source": [
    "# Create Z_1 X_2\n",
    "# See: https://github.com/ITensor/ITensors.jl/blob/main/src/mps/mpo.jl#L69\n",
    "os = Prod{Op}()\n",
    "os *= Op(\"Z\", 1)\n",
    "#os *= Op(\"X\", 2)\n",
    "M = MPO(os, sites)"
   ]
  },
  {
   "cell_type": "code",
   "execution_count": 8,
   "metadata": {},
   "outputs": [
    {
     "data": {
      "text/plain": [
       "MPO\n",
       "[1] ((dim=3|id=380|\"Link,l=1\"), (dim=2|id=250|\"Qubit,Site,n=1\")', (dim=2|id=250|\"Qubit,Site,n=1\"))\n",
       "[2] ((dim=3|id=380|\"Link,l=1\"), (dim=2|id=535|\"Qubit,Site,n=2\")', (dim=2|id=535|\"Qubit,Site,n=2\"))\n"
      ]
     },
     "metadata": {},
     "output_type": "display_data"
    }
   ],
   "source": [
    "# Create Z_1\n",
    "M = MPO(Op(\"Z\", 1), sites)"
   ]
  },
  {
   "cell_type": "code",
   "execution_count": 16,
   "metadata": {},
   "outputs": [
    {
     "name": "stdout",
     "output_type": "stream",
     "text": [
      "M[1] = ITensor ord=2\n",
      "Dim 1: (dim=2|id=669|\"Qubit,Site,n=1\")'\n",
      "Dim 2: (dim=2|id=669|\"Qubit,Site,n=1\")\n",
      "NDTensors.Dense{Float64, Vector{Float64}}\n",
      " 2×2\n",
      " 1.0   0.0\n",
      " 0.0  -1.0\n"
     ]
    },
    {
     "data": {
      "text/plain": [
       "ITensor ord=2 (dim=2|id=669|\"Qubit,Site,n=1\")' (dim=2|id=669|\"Qubit,Site,n=1\")\n",
       "NDTensors.Dense{Float64, Vector{Float64}}"
      ]
     },
     "metadata": {},
     "output_type": "display_data"
    }
   ],
   "source": [
    "@show M[1]"
   ]
  },
  {
   "cell_type": "code",
   "execution_count": null,
   "metadata": {},
   "outputs": [],
   "source": [
    "# Control: 1\n",
    "# Target: 2\n",
    "cnot = op(\"CNOT\", sites, 1, 2)\n",
    "\n",
    "state0 = MPS(sites, [\"1\" for n in 1:nbit])\n",
    "for i2 in 1:2, i1 in 1:2\n",
    "    @show i1, i2, eval(state0, sites, [i1, i2])\n",
    "end\n",
    "res = noprime(contract(MPO(cnot, sites), state0))"
   ]
  },
  {
   "cell_type": "code",
   "execution_count": null,
   "metadata": {},
   "outputs": [],
   "source": [
    "for i2 in 1:2, i1 in 1:2\n",
    "    @show i1, i2, eval(res, sites, [i1, i2])\n",
    "end"
   ]
  },
  {
   "cell_type": "code",
   "execution_count": null,
   "metadata": {},
   "outputs": [],
   "source": [
    "# Phase π: 1\n",
    "# Phase π/2: 2\n",
    "os = Prod{Op}()\n",
    "os *= Op(\"Phase\", 1; ϕ=π)\n",
    "#os *= Op(\"Phase\", 2; ϕ=π/2)\n",
    "M = MPO(os, sites)\n",
    "#M = MPO(Prod{Op}(Op(\"Phase\", 1; ϕ=π)), sites)\n",
    "\n",
    "state0 = MPS(sites, [\"1\" for n in 1:nbit])\n",
    "for i2 in 1:2, i1 in 1:2\n",
    "    @show i1, i2, eval(state0, sites, [i1, i2])\n",
    "end\n",
    "res = noprime(contract(M, state0))\n",
    "\n",
    "#for i2 in 1:2, i1 in 1:2\n",
    "    #@show i1, i2, eval(res, sites, [i1, i2])\n",
    "#end"
   ]
  },
  {
   "cell_type": "code",
   "execution_count": null,
   "metadata": {},
   "outputs": [],
   "source": [
    "replaceprime(contract(M, state0), 2=>1)"
   ]
  },
  {
   "cell_type": "code",
   "execution_count": null,
   "metadata": {},
   "outputs": [],
   "source": [
    "apply(M, state0)"
   ]
  },
  {
   "cell_type": "code",
   "execution_count": null,
   "metadata": {},
   "outputs": [],
   "source": [
    "state0 = MPS(sites, [\"1\" for n in 1:nbit])\n",
    "for i2 in 1:2, i1 in 1:2\n",
    "    @show i1, i2, eval(state0, sites, [i1, i2])\n",
    "end\n",
    "println(\"\")\n",
    "println(\"\")\n",
    "\n",
    "@show state0[1]\n",
    "println(\"\")\n",
    "println(\"\")\n",
    "\n",
    "state0[1] = noprime(state0[1] * op(\"Phase\", sites[1]; ϕ=π))\n",
    ";"
   ]
  },
  {
   "cell_type": "code",
   "execution_count": null,
   "metadata": {},
   "outputs": [],
   "source": [
    "for i2 in 1:2, i1 in 1:2\n",
    "    @show \"B \", i1, i2, eval(state0, sites, [i1, i2])\n",
    "end"
   ]
  },
  {
   "cell_type": "code",
   "execution_count": null,
   "metadata": {},
   "outputs": [],
   "source": [
    "sites = siteinds(\"Qubit\", 4)\n",
    "state0 = MPS(sites, [\"1\" for n in 1:4])\n",
    "@show inds(state0[1])"
   ]
  },
  {
   "cell_type": "code",
   "execution_count": null,
   "metadata": {},
   "outputs": [],
   "source": [
    "@show inds(state0[2])"
   ]
  },
  {
   "cell_type": "code",
   "execution_count": null,
   "metadata": {},
   "outputs": [],
   "source": [
    "@show inds(state0[end])"
   ]
  },
  {
   "cell_type": "code",
   "execution_count": null,
   "metadata": {},
   "outputs": [],
   "source": [
    "contract(M, state0)"
   ]
  },
  {
   "cell_type": "code",
   "execution_count": null,
   "metadata": {},
   "outputs": [],
   "source": []
  }
 ],
 "metadata": {
  "kernelspec": {
   "display_name": "Julia 1.7.2",
   "language": "julia",
   "name": "julia-1.7"
  },
  "language_info": {
   "file_extension": ".jl",
   "mimetype": "application/julia",
   "name": "julia",
   "version": "1.7.3"
  }
 },
 "nbformat": 4,
 "nbformat_minor": 4
}
