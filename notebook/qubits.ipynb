{
 "cells": [
  {
   "cell_type": "markdown",
   "metadata": {},
   "source": [
    "# Qubit operations"
   ]
  },
  {
   "cell_type": "code",
   "execution_count": 1,
   "metadata": {},
   "outputs": [
    {
     "data": {
      "text/plain": [
       "1-element Vector{CartesianIndex{0}}:\n",
       " CartesianIndex()"
      ]
     },
     "metadata": {},
     "output_type": "display_data"
    }
   ],
   "source": [
    "using Revise\n",
    "using Plots\n",
    "using LinearAlgebra\n",
    "using MultiScales\n",
    "\n",
    "newaxis = [CartesianIndex()]"
   ]
  },
  {
   "cell_type": "code",
   "execution_count": 2,
   "metadata": {},
   "outputs": [
    {
     "name": "stdout",
     "output_type": "stream",
     "text": [
      "1\n"
     ]
    }
   ],
   "source": [
    "using ITensors\n",
    "\n",
    "println(ITensors.blas_get_num_threads())"
   ]
  },
  {
   "cell_type": "code",
   "execution_count": 3,
   "metadata": {},
   "outputs": [
    {
     "data": {
      "text/plain": [
       "eval (generic function with 2 methods)"
      ]
     },
     "metadata": {},
     "output_type": "display_data"
    }
   ],
   "source": [
    "function eval(psi, sites, el)\n",
    "    V = ITensor(1.)\n",
    "    for j=1:length(el)\n",
    "        V *= (psi[j] * state(sites[j], el[j]))\n",
    "    end\n",
    "    return scalar(V)\n",
    "end"
   ]
  },
  {
   "cell_type": "code",
   "execution_count": 4,
   "metadata": {},
   "outputs": [
    {
     "data": {
      "text/plain": [
       "2-element Vector{Index{Int64}}:\n",
       " (dim=2|id=700|\"Qubit,Site,n=1\")\n",
       " (dim=2|id=276|\"Qubit,Site,n=2\")"
      ]
     },
     "metadata": {},
     "output_type": "display_data"
    }
   ],
   "source": [
    "nbit = 2\n",
    "N = 2^nbit\n",
    "\n",
    "sites = siteinds(\"Qubit\", nbit)"
   ]
  },
  {
   "cell_type": "code",
   "execution_count": 5,
   "metadata": {},
   "outputs": [],
   "source": [
    "Z = [op(\"Z\", sites, n) for n in 1:nbit]\n",
    ";"
   ]
  },
  {
   "cell_type": "code",
   "execution_count": 6,
   "metadata": {},
   "outputs": [
    {
     "data": {
      "text/plain": [
       "MPS\n",
       "[1] ((dim=2|id=700|\"Qubit,Site,n=1\"), (dim=1|id=973|\"Link,l=1\"))\n",
       "[2] ((dim=1|id=973|\"Link,l=1\"), (dim=2|id=276|\"Qubit,Site,n=2\"))\n"
      ]
     },
     "metadata": {},
     "output_type": "display_data"
    }
   ],
   "source": [
    "mps = MPS(sites, [\"1\" for n in 1:nbit])"
   ]
  },
  {
   "cell_type": "code",
   "execution_count": 7,
   "metadata": {},
   "outputs": [
    {
     "data": {
      "text/plain": [
       "MPO\n",
       "[1] ((dim=2|id=700|\"Qubit,Site,n=1\")', (dim=2|id=700|\"Qubit,Site,n=1\"), (dim=1|id=112|\"Link,l=1\"))\n",
       "[2] ((dim=2|id=276|\"Qubit,Site,n=2\")', (dim=2|id=276|\"Qubit,Site,n=2\"), (dim=1|id=112|\"Link,l=1\"))\n"
      ]
     },
     "metadata": {},
     "output_type": "display_data"
    }
   ],
   "source": [
    "M = MPO(sites, [\"Z\" for n in 1:nbit])"
   ]
  },
  {
   "cell_type": "code",
   "execution_count": 8,
   "metadata": {},
   "outputs": [
    {
     "data": {
      "text/plain": [
       "MPO\n",
       "[1] ((dim=3|id=135|\"Link,l=1\"), (dim=2|id=700|\"Qubit,Site,n=1\")', (dim=2|id=700|\"Qubit,Site,n=1\"))\n",
       "[2] ((dim=3|id=135|\"Link,l=1\"), (dim=2|id=276|\"Qubit,Site,n=2\")', (dim=2|id=276|\"Qubit,Site,n=2\"))\n"
      ]
     },
     "metadata": {},
     "output_type": "display_data"
    }
   ],
   "source": [
    "# Create Z_1 X_2\n",
    "# See: https://github.com/ITensor/ITensors.jl/blob/main/src/mps/mpo.jl#L69\n",
    "os = Prod{Op}()\n",
    "os *= Op(\"Z\", 1)\n",
    "os *= Op(\"X\", 2)\n",
    "M = MPO(os, sites)"
   ]
  },
  {
   "cell_type": "code",
   "execution_count": 9,
   "metadata": {},
   "outputs": [
    {
     "data": {
      "text/plain": [
       "MPO\n",
       "[1] ((dim=3|id=433|\"Link,l=1\"), (dim=2|id=700|\"Qubit,Site,n=1\")', (dim=2|id=700|\"Qubit,Site,n=1\"))\n",
       "[2] ((dim=3|id=433|\"Link,l=1\"), (dim=2|id=276|\"Qubit,Site,n=2\")', (dim=2|id=276|\"Qubit,Site,n=2\"))\n"
      ]
     },
     "metadata": {},
     "output_type": "display_data"
    }
   ],
   "source": [
    "# Create Z_1\n",
    "M = MPO(Op(\"Z\", 1), sites)"
   ]
  },
  {
   "cell_type": "code",
   "execution_count": 10,
   "metadata": {},
   "outputs": [
    {
     "name": "stdout",
     "output_type": "stream",
     "text": [
      "(i1, i2, eval(state0, sites, [i1, i2])) = (1, 1, 0.0)\n",
      "(i1, i2, eval(state0, sites, [i1, i2])) = (2, 1, 0.0)\n",
      "(i1, i2, eval(state0, sites, [i1, i2])) = (1, 2, 0.0)\n",
      "(i1, i2, eval(state0, sites, [i1, i2])) = (2, 2, 1.0)\n"
     ]
    },
    {
     "data": {
      "text/plain": [
       "MPS\n",
       "[1] ((dim=2|id=896|\"Link,l=1\"), (dim=2|id=700|\"Qubit,Site,n=1\"))\n",
       "[2] ((dim=2|id=276|\"Qubit,Site,n=2\"), (dim=2|id=896|\"Link,l=1\"))\n"
      ]
     },
     "metadata": {},
     "output_type": "display_data"
    }
   ],
   "source": [
    "# Control: 1\n",
    "# Target: 2\n",
    "cnot = op(\"CNOT\", sites, 1, 2)\n",
    "\n",
    "state0 = MPS(sites, [\"1\" for n in 1:nbit])\n",
    "for i2 in 1:2, i1 in 1:2\n",
    "    @show i1, i2, eval(state0, sites, [i1, i2])\n",
    "end\n",
    "res = noprime(contract(MPO(cnot, sites), state0))"
   ]
  },
  {
   "cell_type": "code",
   "execution_count": 11,
   "metadata": {},
   "outputs": [
    {
     "name": "stdout",
     "output_type": "stream",
     "text": [
      "(i1, i2, eval(res, sites, [i1, i2])) = (1, 1, 0.0)\n",
      "(i1, i2, eval(res, sites, [i1, i2])) = (2, 1, 1.0)\n",
      "(i1, i2, eval(res, sites, [i1, i2])) = (1, 2, 0.0)\n",
      "(i1, i2, eval(res, sites, [i1, i2])) = (2, 2, 0.0)\n"
     ]
    }
   ],
   "source": [
    "for i2 in 1:2, i1 in 1:2\n",
    "    @show i1, i2, eval(res, sites, [i1, i2])\n",
    "end"
   ]
  },
  {
   "cell_type": "code",
   "execution_count": 12,
   "metadata": {},
   "outputs": [
    {
     "name": "stdout",
     "output_type": "stream",
     "text": [
      "(i1, i2, eval(state0, sites, [i1, i2])) = (1, 1, 0.0)\n",
      "(i1, i2, eval(state0, sites, [i1, i2])) = (2, 1, 0.0)\n",
      "(i1, i2, eval(state0, sites, [i1, i2])) = (1, 2, 0.0)\n",
      "(i1, i2, eval(state0, sites, [i1, i2])) = (2, 2, 1.0)\n"
     ]
    },
    {
     "data": {
      "text/plain": [
       "MPS\n",
       "[1] ((dim=2|id=918|\"Link,l=1\"), (dim=2|id=700|\"Qubit,Site,n=1\"))\n",
       "[2] ((dim=2|id=276|\"Qubit,Site,n=2\"), (dim=2|id=918|\"Link,l=1\"))\n"
      ]
     },
     "metadata": {},
     "output_type": "display_data"
    }
   ],
   "source": [
    "# Phase π: 1\n",
    "# Phase π/2: 2\n",
    "os = Prod{Op}()\n",
    "os *= Op(\"Phase\", 1; ϕ=π)\n",
    "#os *= Op(\"Phase\", 2; ϕ=π/2)\n",
    "M = MPO(os, sites)\n",
    "#M = MPO(Prod{Op}(Op(\"Phase\", 1; ϕ=π)), sites)\n",
    "\n",
    "state0 = MPS(sites, [\"1\" for n in 1:nbit])\n",
    "for i2 in 1:2, i1 in 1:2\n",
    "    @show i1, i2, eval(state0, sites, [i1, i2])\n",
    "end\n",
    "res = noprime(contract(M, state0))\n",
    "\n",
    "#for i2 in 1:2, i1 in 1:2\n",
    "    #@show i1, i2, eval(res, sites, [i1, i2])\n",
    "#end"
   ]
  },
  {
   "cell_type": "code",
   "execution_count": 13,
   "metadata": {},
   "outputs": [
    {
     "name": "stdout",
     "output_type": "stream",
     "text": [
      "(i1, i2, eval(state0, sites, [i1, i2])) = (1, 1, 0.0)\n",
      "(i1, i2, eval(state0, sites, [i1, i2])) = (2, 1, 0.0)\n",
      "(i1, i2, eval(state0, sites, [i1, i2])) = (1, 2, 0.0)\n",
      "(i1, i2, eval(state0, sites, [i1, i2])) = (2, 2, 1.0)\n",
      "\n",
      "\n",
      "state0[1] = "
     ]
    },
    {
     "name": "stdout",
     "output_type": "stream",
     "text": [
      "ITensor ord=2\n",
      "Dim 1: (dim=2|id=700|\"Qubit,Site,n=1\")\n",
      "Dim 2: (dim=1|id=872|\"Link,l=1\")\n",
      "NDTensors.Dense{Float64, Vector{Float64}}\n",
      " 2×1\n",
      " 0.0\n",
      " 1.0\n",
      "\n",
      "\n"
     ]
    }
   ],
   "source": [
    "state0 = MPS(sites, [\"1\" for n in 1:nbit])\n",
    "for i2 in 1:2, i1 in 1:2\n",
    "    @show i1, i2, eval(state0, sites, [i1, i2])\n",
    "end\n",
    "println(\"\")\n",
    "println(\"\")\n",
    "\n",
    "@show state0[1]\n",
    "println(\"\")\n",
    "println(\"\")\n",
    "\n",
    "state0[1] = noprime(state0[1] * op(\"Phase\", sites[1]; ϕ=π))\n",
    ";"
   ]
  },
  {
   "cell_type": "code",
   "execution_count": 14,
   "metadata": {},
   "outputs": [
    {
     "name": "stdout",
     "output_type": "stream",
     "text": [
      "(\"B \", i1, i2, eval(state0, sites, [i1, i2])) = (\"B \", 1, 1, 0.0 + 0.0im)\n",
      "(\"B \", i1, i2, eval(state0, sites, [i1, i2])) = (\"B \", 2, 1, -0.0 + 0.0im)\n",
      "(\"B \", i1, i2, eval(state0, sites, [i1, i2])) = (\"B \", 1, 2, 0.0 + 0.0im)\n",
      "(\"B \", i1, i2, eval(state0, sites, [i1, i2])) = (\"B \", 2, 2, -1.0 + 1.2246467991473532e-16im)\n"
     ]
    }
   ],
   "source": [
    "for i2 in 1:2, i1 in 1:2\n",
    "    @show \"B \", i1, i2, eval(state0, sites, [i1, i2])\n",
    "end"
   ]
  },
  {
   "cell_type": "code",
   "execution_count": 27,
   "metadata": {},
   "outputs": [
    {
     "name": "stdout",
     "output_type": "stream",
     "text": [
      "inds(state0[1]) = ((dim=2|id=288|\"Qubit,Site,n=1\"), (dim=1|id=184|\"Link,l=1\"))\n"
     ]
    },
    {
     "data": {
      "text/plain": [
       "((dim=2|id=288|\"Qubit,Site,n=1\"), (dim=1|id=184|\"Link,l=1\"))"
      ]
     },
     "metadata": {},
     "output_type": "display_data"
    }
   ],
   "source": [
    "sites = siteinds(\"Qubit\", 4)\n",
    "state0 = MPS(sites, [\"1\" for n in 1:4])\n",
    "@show inds(state0[1])"
   ]
  },
  {
   "cell_type": "code",
   "execution_count": 26,
   "metadata": {},
   "outputs": [
    {
     "name": "stdout",
     "output_type": "stream",
     "text": [
      "inds(state0[2]) = ((dim=1|id=12|\"Link,l=1\"), (dim=2|id=458|\"Qubit,Site,n=2\"), (dim=1|id=909|\"Link,l=2\"))\n"
     ]
    },
    {
     "data": {
      "text/plain": [
       "((dim=1|id=12|\"Link,l=1\"), (dim=2|id=458|\"Qubit,Site,n=2\"), (dim=1|id=909|\"Link,l=2\"))"
      ]
     },
     "metadata": {},
     "output_type": "display_data"
    }
   ],
   "source": [
    "@show inds(state0[2])"
   ]
  },
  {
   "cell_type": "code",
   "execution_count": 28,
   "metadata": {},
   "outputs": [
    {
     "name": "stdout",
     "output_type": "stream",
     "text": [
      "inds(state0[end]) = ((dim=1|id=531|\"Link,l=3\"), (dim=2|id=617|\"Qubit,Site,n=4\"))\n"
     ]
    },
    {
     "data": {
      "text/plain": [
       "((dim=1|id=531|\"Link,l=3\"), (dim=2|id=617|\"Qubit,Site,n=4\"))"
      ]
     },
     "metadata": {},
     "output_type": "display_data"
    }
   ],
   "source": [
    "@show inds(state0[end])"
   ]
  },
  {
   "cell_type": "code",
   "execution_count": null,
   "metadata": {},
   "outputs": [],
   "source": []
  }
 ],
 "metadata": {
  "kernelspec": {
   "display_name": "Julia 1.7.3",
   "language": "julia",
   "name": "julia-1.7"
  },
  "language_info": {
   "file_extension": ".jl",
   "mimetype": "application/julia",
   "name": "julia",
   "version": "1.7.3"
  },
  "orig_nbformat": 4
 },
 "nbformat": 4,
 "nbformat_minor": 2
}
