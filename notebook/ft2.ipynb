{
 "cells": [
  {
   "cell_type": "markdown",
   "metadata": {},
   "source": [
    "# Fourier transform"
   ]
  },
  {
   "cell_type": "code",
   "execution_count": null,
   "metadata": {},
   "outputs": [],
   "source": [
    "using Revise\n",
    "using Plots\n",
    "using LinearAlgebra\n",
    "using SparseIR\n",
    "import SparseIR: valueim\n",
    "\n",
    "newaxis = [CartesianIndex()]"
   ]
  },
  {
   "cell_type": "code",
   "execution_count": null,
   "metadata": {},
   "outputs": [],
   "source": [
    "BLAS.set_num_threads(16)"
   ]
  },
  {
   "cell_type": "code",
   "execution_count": null,
   "metadata": {},
   "outputs": [],
   "source": [
    "println(Threads.nthreads())"
   ]
  },
  {
   "cell_type": "code",
   "execution_count": null,
   "metadata": {},
   "outputs": [],
   "source": [
    "using ITensors\n",
    "\n",
    "println(ITensors.blas_get_num_threads())"
   ]
  },
  {
   "cell_type": "markdown",
   "metadata": {},
   "source": [
    "We want create a MPO for Fourier transform:\n",
    "$$\n",
    "F(t) = \\sum_{x=0}^{N-1} f(x) e^{-i \\frac{2\\pi t x}{N}} = \\sum_{x=0}^{N-1} T(t, x) f(x).\n",
    "$$\n",
    "\n",
    "MPS/MPO tensors are indexed from the left to the right in ascending order.\n",
    "We assign the least significant digit to the first or the last tensor.\n",
    "Let us stick to the former convention.\n",
    "\n",
    "$x=0,...., 2^Q-1$ can be represented as a binary number, $0b001, 0b010, ..., 0b111 (=0b x_{Q-1} x_{Q-2} ... x_0)$ for $Q=3$.\n",
    "\n",
    "$$\n",
    "F(t_0, \\cdots, t_{Q-1}) = \\sum_{x_0=0}^1 \\cdots \\sum_{x_{Q-1}=0}^1  T(t_0, \\cdots, t_{Q-1}, x_0, \\cdots, x_{Q-1}) f(x_0, \\cdots, x_{Q-1}).\n",
    "$$\n",
    "\n",
    "We transpose the tensor $T$ as $\\bar T$:\n",
    "\n",
    "$$\n",
    "\\bar T(t_Q, x_0, \\cdots, t_0, x_{Q-1}) = T(t_0, \\cdots, T_{Q-1}, x_0, \\cdots, x_{Q-1})\n",
    "$$\n",
    "\n",
    "In MPS/MPO, states[1] corresponds to $x_0$ and $t_{Q-1}$ (long-range and high frequency)."
   ]
  },
  {
   "cell_type": "code",
   "execution_count": null,
   "metadata": {},
   "outputs": [],
   "source": [
    "nbit = 6\n",
    "N = 2^nbit\n",
    "\n",
    "sites = siteinds(\"Qubit\", nbit)\n",
    "sitesT = reverse(sites)\n",
    "\n",
    "tmat = zeros(ComplexF64, N, N)\n",
    "\n",
    "for t in 0:N-1, x in 0:N-1\n",
    "    tmat[t+1, x+1] = exp(-im * 2π * t * x/N)\n",
    "end\n",
    "\n",
    "# `tmat`: (t_0, ..., t_{Q-1}, x_0, ..., x_{Q-1})\n",
    "tmat = reshape(tmat, ntuple(x->2, 2*nbit))\n",
    "\n",
    "trans_t = ITensor(tmat, sitesT..., prime(sites)...)\n",
    "\n",
    "tmat = nothing\n",
    ";"
   ]
  },
  {
   "cell_type": "code",
   "execution_count": null,
   "metadata": {},
   "outputs": [],
   "source": [
    "indices = vcat(sites[1:nbit÷2], prime(sites[1:nbit÷2]))\n",
    "U, S, V = svd(trans_t, indices...)\n",
    "plot(Array(diag(S)), yaxis=:log)"
   ]
  },
  {
   "cell_type": "code",
   "execution_count": null,
   "metadata": {},
   "outputs": [],
   "source": [
    "states = repeat([\"1\"], nbit)\n",
    "\n",
    "psix = MPS(sites, states)\n",
    "psiy = Array(noprime(trans_t * reduce(*, psix)), sites)\n",
    "\n",
    "p = plot()\n",
    "plot!(p, real.(vec(psiy)))\n",
    "plot!(p, imag.(vec(psiy)))"
   ]
  },
  {
   "cell_type": "code",
   "execution_count": null,
   "metadata": {},
   "outputs": [],
   "source": [
    "cutoff = 1E-10\n",
    "maxdim = 100\n",
    "\n",
    "M = MPO(trans_t, sites; cutoff=cutoff, maxdim=maxdim)"
   ]
  },
  {
   "cell_type": "code",
   "execution_count": null,
   "metadata": {},
   "outputs": [],
   "source": [
    "trans_t_reconst = reduce(*, M)\n",
    "\n",
    "@show maximum(abs, Array(trans_t_reconst, sites, sites') - Array(trans_t, sites, sites'))"
   ]
  },
  {
   "cell_type": "code",
   "execution_count": null,
   "metadata": {},
   "outputs": [],
   "source": [
    "states = repeat([\"1\"], nbit)\n",
    "\n",
    "psix = MPS(sites, states)\n",
    "psiy = reduce(*, noprime(contract(M, psix)))\n",
    "psiy2 = noprime(trans_t * reduce(*, psix))\n",
    "\n",
    "@show Array(psiy, sites) - Array(psiy2, sites)"
   ]
  },
  {
   "cell_type": "code",
   "execution_count": null,
   "metadata": {},
   "outputs": [],
   "source": [
    "for states in [repeat([\"1\"], nbit)]\n",
    "    psix = MPS(sites, states)\n",
    "    psiy = noprime(contract(M, psix))\n",
    "\n",
    "    # Indices of psiy: (t_{Q-1}, ...., t_0)\n",
    "    psiy_arr = Array(reduce(*, psiy), sites...)\n",
    "    #@assert psiy_arr ≈ ones(ComplexF64, size(psiy_arr)...)\n",
    "\n",
    "    # Indices of psix: (x_0, ...., x_{Q-1})\n",
    "    vecx = reshape(Array(reduce(*, psix), sites...), N)\n",
    "    @show vec(psiy_arr)\n",
    "    @show reshape(tensor2, N, N) * vecx\n",
    "end"
   ]
  },
  {
   "cell_type": "code",
   "execution_count": null,
   "metadata": {},
   "outputs": [],
   "source": [
    "# x0, ..., x_{Q-1} from left to right.\n",
    "# t_{Q-1}, ..., t_0 from left to right.\n",
    "#states = repeat([\"1\"], nbit)\n",
    "# x0=1, x1=0\n",
    "states = [\"1\", \"0\"]\n",
    "\n",
    "psix = MPS(sites, states)\n",
    "#@show Array(reduce(*, psix), sites...)\n",
    "psiy = noprime(contract(M, psix))\n",
    "\n",
    "# Indices of psiy: (t_0, ...., t_{Q-1})\n",
    "psiy_arr = Array(reduce(*, psiy), sitesT...)\n",
    "\n",
    "\n",
    "p = plot()\n",
    "plot!(p, real.(vec(psiy_arr)))"
   ]
  },
  {
   "cell_type": "code",
   "execution_count": null,
   "metadata": {},
   "outputs": [],
   "source": [
    "psix_full = reduce(*, psix)"
   ]
  },
  {
   "cell_type": "code",
   "execution_count": null,
   "metadata": {},
   "outputs": [],
   "source": [
    "psix_full[sites[1]=>2, sites[2]=>1]"
   ]
  },
  {
   "cell_type": "code",
   "execution_count": null,
   "metadata": {},
   "outputs": [],
   "source": [
    "psiy_full = reduce(*, psiy)"
   ]
  },
  {
   "cell_type": "code",
   "execution_count": null,
   "metadata": {},
   "outputs": [],
   "source": []
  }
 ],
 "metadata": {
  "kernelspec": {
   "display_name": "Julia 1.7.3",
   "language": "julia",
   "name": "julia-1.7"
  },
  "language_info": {
   "file_extension": ".jl",
   "mimetype": "application/julia",
   "name": "julia",
   "version": "1.7.3"
  },
  "orig_nbformat": 4
 },
 "nbformat": 4,
 "nbformat_minor": 2
}
