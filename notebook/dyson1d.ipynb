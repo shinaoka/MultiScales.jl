{
 "cells": [
  {
   "cell_type": "code",
   "execution_count": 12,
   "metadata": {},
   "outputs": [
    {
     "name": "stdout",
     "output_type": "stream",
     "text": [
      "8\n"
     ]
    },
    {
     "name": "stderr",
     "output_type": "stream",
     "text": [
      "┌ Info: Precompiling ITensorTDVP [25707e16-a4db-4a07-99d9-4d67b7af0342]\n",
      "└ @ Base loading.jl:1662\n"
     ]
    }
   ],
   "source": [
    "using ITensors\n",
    "ITensors.disable_warn_order()\n",
    "println(ITensors.blas_get_num_threads())\n",
    "using ITensorTDVP"
   ]
  },
  {
   "cell_type": "code",
   "execution_count": 2,
   "metadata": {},
   "outputs": [
    {
     "name": "stderr",
     "output_type": "stream",
     "text": [
      "┌ Info: Precompiling PyPlot [d330b81b-6aea-500a-939a-2ce795aea3ee]\n",
      "└ @ Base loading.jl:1662\n",
      "┌ Info: Precompiling MultiScales [d24ad848-1d7e-4ebf-9da3-2ede15b5f46e]\n",
      "└ @ Base loading.jl:1662\n"
     ]
    },
    {
     "data": {
      "text/plain": [
       "1-element Vector{String}:\n",
       " \"Computer Modern Roman\""
      ]
     },
     "execution_count": 2,
     "metadata": {},
     "output_type": "execute_result"
    }
   ],
   "source": [
    "using Revise\n",
    "using PyPlot\n",
    "using LaTeXStrings\n",
    "using PyCall\n",
    "\n",
    "using LinearAlgebra\n",
    "using SparseIR\n",
    "using MultiScales\n",
    "\n",
    "newaxis = [CartesianIndex()]\n",
    "\n",
    "rcParams = PyDict(matplotlib[\"rcParams\"])\n",
    "rcParams[\"font.size\"] = 18\n",
    "rcParams[\"text.usetex\"] = true\n",
    "rcParams[\"font.family\"] = \"serif\"\n",
    "rcParams[\"font.serif\"] = [\"Computer Modern Roman\"]"
   ]
  },
  {
   "cell_type": "code",
   "execution_count": 3,
   "metadata": {},
   "outputs": [],
   "source": [
    "BLAS.set_num_threads(8)"
   ]
  },
  {
   "cell_type": "code",
   "execution_count": 206,
   "metadata": {},
   "outputs": [
    {
     "data": {
      "text/plain": [
       "_reconst (generic function with 1 method)"
      ]
     },
     "execution_count": 206,
     "metadata": {},
     "output_type": "execute_result"
    }
   ],
   "source": [
    "nbits = 6\n",
    "beta = 10.0\n",
    "sites = [Index(2, \"Qubit, n=$k\") for k in 1:nbits]\n",
    "\n",
    "_reconst(x) = vec(Array(reduce(*, x), reverse(sites)))"
   ]
  },
  {
   "cell_type": "code",
   "execution_count": 222,
   "metadata": {},
   "outputs": [
    {
     "name": "stdout",
     "output_type": "stream",
     "text": [
      "(v, iv) = (π/β, 0.0 + 0.3141592653589793im)\n"
     ]
    },
    {
     "data": {
      "text/plain": [
       "MPS\n",
       "[1] ((dim=2|id=855|\"Qubit,n=1\"), (dim=1|id=130|\"Link,l=1\"))\n",
       "[2] ((dim=1|id=130|\"Link,l=1\"), (dim=2|id=688|\"Qubit,n=2\"), (dim=1|id=370|\"Link,l=2\"))\n",
       "[3] ((dim=1|id=370|\"Link,l=2\"), (dim=2|id=136|\"Qubit,n=3\"), (dim=1|id=116|\"Link,l=3\"))\n",
       "[4] ((dim=1|id=116|\"Link,l=3\"), (dim=2|id=286|\"Qubit,n=4\"), (dim=1|id=252|\"Link,l=4\"))\n",
       "[5] ((dim=1|id=252|\"Link,l=4\"), (dim=2|id=218|\"Qubit,n=5\"), (dim=1|id=922|\"Link,l=5\"))\n",
       "[6] ((dim=1|id=922|\"Link,l=5\"), (dim=2|id=553|\"Qubit,n=6\"))\n"
      ]
     },
     "execution_count": 222,
     "metadata": {},
     "output_type": "execute_result"
    }
   ],
   "source": [
    "v = FermionicFreq(1)\n",
    "iv = SparseIR.valueim(v, beta)\n",
    "@show v, iv\n",
    "ivmps = iv * MultiScales.onemps(ComplexF64, sites)\n",
    "#_reconst(ivmps)"
   ]
  },
  {
   "cell_type": "code",
   "execution_count": 208,
   "metadata": {},
   "outputs": [
    {
     "name": "stdout",
     "output_type": "stream",
     "text": [
      "states = [\"1\", \"0\", \"0\", \"0\", \"0\", \"0\"]\n"
     ]
    },
    {
     "data": {
      "text/plain": [
       "MPS\n",
       "[1] ((dim=2|id=855|\"Qubit,n=1\"), (dim=2|id=578|\"Link,l=1\"))\n",
       "[2] ((dim=2|id=688|\"Qubit,n=2\"), (dim=2|id=459|\"Link,l=2\"), (dim=2|id=578|\"Link,l=1\"))\n",
       "[3] ((dim=2|id=136|\"Qubit,n=3\"), (dim=2|id=308|\"Link,l=3\"), (dim=2|id=459|\"Link,l=2\"))\n",
       "[4] ((dim=2|id=286|\"Qubit,n=4\"), (dim=2|id=885|\"Link,l=4\"), (dim=2|id=308|\"Link,l=3\"))\n",
       "[5] ((dim=2|id=218|\"Qubit,n=5\"), (dim=2|id=9|\"Link,l=5\"), (dim=2|id=885|\"Link,l=4\"))\n",
       "[6] ((dim=2|id=553|\"Qubit,n=6\"), (dim=2|id=9|\"Link,l=5\"))\n"
      ]
     },
     "execution_count": 208,
     "metadata": {},
     "output_type": "execute_result"
    }
   ],
   "source": [
    "function _setbit(sites, pos)\n",
    "    1 <= pos <= length(sites) || error(\"Invalid pos\")\n",
    "    states = repeat([\"0\"], length(sites))\n",
    "    states[pos] = \"1\"\n",
    "    @show states\n",
    "    return MPS(sites, states)\n",
    "end\n",
    "\n",
    "#hr = _setbit(sites, nbits)\n",
    "hr = _setbit(sites, 1) + MPS(sites, repeat([\"1\"], length(sites)))\n",
    "#hr = MPS(sites, repeat([\"1\"], length(sites)))\n",
    "#_reconst(hr)"
   ]
  },
  {
   "cell_type": "code",
   "execution_count": 209,
   "metadata": {},
   "outputs": [
    {
     "data": {
      "text/plain": [
       "MPO\n",
       "[1] ((dim=2|id=855|\"Qubit,n=1\")', (dim=2|id=855|\"Qubit,n=1\"), (dim=2|id=983|\"Link,n=1\"))\n",
       "[2] ((dim=2|id=688|\"Qubit,n=2\")', (dim=2|id=688|\"Qubit,n=2\"), (dim=4|id=864|\"Link,n=2\"), (dim=2|id=983|\"Link,n=1\"))\n",
       "[3] ((dim=2|id=136|\"Qubit,n=3\")', (dim=2|id=136|\"Qubit,n=3\"), (dim=8|id=787|\"Link,n=3\"), (dim=4|id=864|\"Link,n=2\"))\n",
       "[4] ((dim=2|id=286|\"Qubit,n=4\")', (dim=2|id=286|\"Qubit,n=4\"), (dim=4|id=3|\"Link,n=4\"), (dim=8|id=787|\"Link,n=3\"))\n",
       "[5] ((dim=2|id=218|\"Qubit,n=5\")', (dim=2|id=218|\"Qubit,n=5\"), (dim=2|id=795|\"Link,n=5\"), (dim=4|id=3|\"Link,n=4\"))\n",
       "[6] ((dim=2|id=553|\"Qubit,n=6\")', (dim=2|id=553|\"Qubit,n=6\"), (dim=2|id=795|\"Link,n=5\"))\n"
      ]
     },
     "execution_count": 209,
     "metadata": {},
     "output_type": "execute_result"
    }
   ],
   "source": [
    "ftcore = MultiScales.FTCore(sites; cutoff=1e-20)\n",
    "Mft = (2.0^(0.5*length(sites))) * MultiScales.backwardmpo(ftcore, sites; inputorder=:reversed)"
   ]
  },
  {
   "cell_type": "code",
   "execution_count": 210,
   "metadata": {},
   "outputs": [],
   "source": [
    "hk = apply(Mft, hr; cutoff=1e-20)\n",
    "@assert _reconst(hk)[1] ≈ 2.0"
   ]
  },
  {
   "cell_type": "code",
   "execution_count": 211,
   "metadata": {},
   "outputs": [
    {
     "data": {
      "image/png": "[encoded data removed]",
      "text/plain": [
       "Figure(PyObject <Figure size 640x480 with 1 Axes>)"
      ]
     },
     "metadata": {},
     "output_type": "display_data"
    },
    {
     "data": {
      "text/plain": [
       "1-element Vector{PyObject}:\n",
       " PyObject <matplotlib.lines.Line2D object at 0x151dba689340>"
      ]
     },
     "execution_count": 211,
     "metadata": {},
     "output_type": "execute_result"
    }
   ],
   "source": [
    "kmesh = LinRange(0, 2π, 2^nbits+1)[1:end-1]\n",
    "hk_ref = 2*cos.(kmesh)\n",
    "plot(real.(_reconst(hk)))\n",
    "plot(real.(hk_ref))"
   ]
  },
  {
   "cell_type": "code",
   "execution_count": 212,
   "metadata": {},
   "outputs": [
    {
     "data": {
      "text/plain": [
       "MPS\n",
       "[1] ((dim=2|id=855|\"Qubit,n=1\"), (dim=2|id=581|\"Link,l=1\"))\n",
       "[2] ((dim=2|id=688|\"Qubit,n=2\"), (dim=3|id=165|\"Link,l=2\"), (dim=2|id=581|\"Link,l=1\"))\n",
       "[3] ((dim=2|id=136|\"Qubit,n=3\"), (dim=3|id=156|\"Link,l=3\"), (dim=3|id=165|\"Link,l=2\"))\n",
       "[4] ((dim=2|id=286|\"Qubit,n=4\"), (dim=3|id=198|\"Link,l=4\"), (dim=3|id=156|\"Link,l=3\"))\n",
       "[5] ((dim=2|id=218|\"Qubit,n=5\"), (dim=2|id=824|\"Link,l=5\"), (dim=3|id=198|\"Link,l=4\"))\n",
       "[6] ((dim=2|id=553|\"Qubit,n=6\"), (dim=2|id=824|\"Link,l=5\"))\n"
      ]
     },
     "execution_count": 212,
     "metadata": {},
     "output_type": "execute_result"
    }
   ],
   "source": [
    "amps = ivmps - hk\n",
    "#_reconst(amps)"
   ]
  },
  {
   "cell_type": "code",
   "execution_count": 224,
   "metadata": {},
   "outputs": [
    {
     "name": "stdout",
     "output_type": "stream",
     "text": [
      "(_reconst(apply(A, x)))[1:5] = ComplexF64[1.0000000000000007 + 7.588908775888116e-32im, 0.9999999999999998 + 6.972611193684194e-32im, 1.0000000000000013 + 7.588908775888116e-32im, 1.0000000000000002 + 6.972611193684194e-32im, 1.0000000000000007 + 6.1629758220391534e-33im]\n",
      "(_reconst(apply(A, x)))[1:5] = ComplexF64[-0.9987952365664756 - 0.049072144972216666im, -0.9987952365657651 - 0.049072144989993315im, -0.9987952365676644 - 0.0490721449462641im, -0.9987952365630215 - 0.049072145036227116im, -0.9987952365673621 - 0.04907214495686901im]\n",
      "(_reconst(apply(A, x)))[1:5] = ComplexF64[-0.9983121124933728 - 0.05807689818555337im, -0.9983121115254066 - 0.05807691467278134im, -0.9983121125693772 - 0.058076895931155344im, -0.9983121112173282 - 0.058076920923880226im, -0.9983121122127051 - 0.05807690339923075im]\n",
      "(_reconst(apply(A, x)))[1:5] = ComplexF64[-0.9982325791176982 - 0.05942895325198308im, -0.9982323921890415 - 0.05943048897919356im, -0.9982324536878036 - 0.059429735944843694im, -0.9982324398357805 - 0.05943051083601226im, -0.9982325285786243 - 0.0594294313574294im]\n"
     ]
    }
   ],
   "source": [
    "b = MultiScales.onemps(ComplexF64, sites)\n",
    "#A0 = MultiScales.tompo_elementwiseprod(ivmps)\n",
    "#A = MultiScales.tompo_elementwiseprod(amps)\n",
    "x0 = b\n",
    "\n",
    "cutoff = 1E-25\n",
    "maxdim = 100\n",
    "nsweeps = 2\n",
    "\n",
    "for coeff in [0.0, 0.2, 0.4, 1.0]\n",
    "    A = MultiScales.tompo_elementwiseprod(ivmps - coeff * hk)\n",
    "    x = linsolve(A, b, x0; cutoff, maxdim, nsweeps, solver_maxiter=1000, solver_krylovdim=30)\n",
    "    #@show maximum(abs, _reconst(apply(A, x)) .- ones(2^nbits))\n",
    "    @show _reconst(apply(A, x))[1:5]\n",
    "    x0 = copy(x)\n",
    "end\n",
    "#@show _reconst(b)\n",
    "#\n",
    "#gmps = x0\n",
    "#g0mps = linsolve(A0, b, x0; cutoff, maxdim, nsweeps)\n",
    "#gmps = linsolve(A, b, g0mps; cutoff, maxdim, nsweeps, solver_maxiter=1000)"
   ]
  },
  {
   "cell_type": "code",
   "execution_count": 169,
   "metadata": {},
   "outputs": [
    {
     "data": {
      "text/plain": [
       "1024-element Vector{ComplexF64}:\n",
       "  -0.519820617417338 + 0.5994345096635068im\n",
       " -0.7686711157156767 + 0.7064950517022887im\n",
       " -0.9828022298796719 + 0.7984423522474002im\n",
       " -1.1621097891942915 + 0.8713198965800579im\n",
       "  -1.304823996914343 + 0.9196457891534627im\n",
       " -1.4241710240364704 + 0.9554706562385378im\n",
       " -1.5118109052651443 + 0.9665560926701664im\n",
       "  -1.568148599208175 + 0.9521668843194409im\n",
       " -1.6234776475641604 + 0.9269014145300287im\n",
       " -1.6901701139294554 + 0.9127458850849912im\n",
       " -1.7292702127447586 + 0.8772553204960838im\n",
       " -1.7478152450377842 + 0.8290921654808155im\n",
       " -1.7483867017565864 + 0.7732153348654791im\n",
       "                     ⋮\n",
       "  -1.699102636671137 + 0.8779574827973844im\n",
       " -1.6812844465077106 + 0.9423613217850484im\n",
       "  -1.642296801598192 + 0.9912686856655748im\n",
       " -1.5793570794383962 + 1.0180213764371728im\n",
       " -1.5213637628744436 + 1.0339383753715252im\n",
       "  -1.471149609179536 + 1.0578873746925495im\n",
       " -1.3906762081627468 + 1.0497328223139772im\n",
       " -1.2836619011440642 + 1.013021611404415im\n",
       " -1.1488457286415237 + 0.94797515450605im\n",
       " -0.9929016056790413 + 0.8690412772083452im\n",
       " -0.7999337498087026 + 0.7635250291791359im\n",
       " -0.5607029574479203 + 0.6295891207159965im"
      ]
     },
     "execution_count": 169,
     "metadata": {},
     "output_type": "execute_result"
    }
   ],
   "source": [
    "_reconst(apply(A, gmps))"
   ]
  },
  {
   "cell_type": "code",
   "execution_count": 141,
   "metadata": {},
   "outputs": [],
   "source": [
    "#_reconst(x)\n",
    "#gref"
   ]
  },
  {
   "cell_type": "code",
   "execution_count": 146,
   "metadata": {},
   "outputs": [],
   "source": [
    "gref = 1 ./ (_reconst(ivmps) .- _reconst(hk))\n",
    "greconst = _reconst(gmps)\n",
    ";"
   ]
  },
  {
   "cell_type": "markdown",
   "metadata": {},
   "source": [
    "xvec = _reconst(x) .* _reconst()"
   ]
  },
  {
   "cell_type": "code",
   "execution_count": 147,
   "metadata": {},
   "outputs": [
    {
     "data": {
      "image/png": "[encoded data removed]",
      "text/plain": [
       "Figure(PyObject <Figure size 640x480 with 1 Axes>)"
      ]
     },
     "metadata": {},
     "output_type": "display_data"
    },
    {
     "data": {
      "text/plain": [
       "1-element Vector{PyObject}:\n",
       " PyObject <matplotlib.lines.Line2D object at 0x151dba90e880>"
      ]
     },
     "execution_count": 147,
     "metadata": {},
     "output_type": "execute_result"
    }
   ],
   "source": [
    "plot(abs.(gref .- greconst))"
   ]
  },
  {
   "cell_type": "code",
   "execution_count": null,
   "metadata": {},
   "outputs": [],
   "source": []
  }
 ],
 "metadata": {
  "kernelspec": {
   "display_name": "Julia (ITensors, 8 threads) 1.8.1",
   "language": "julia",
   "name": "julia-(itensors,-8-threads)-1.8"
  },
  "language_info": {
   "file_extension": ".jl",
   "mimetype": "application/julia",
   "name": "julia",
   "version": "1.8.1"
  },
  "orig_nbformat": 4
 },
 "nbformat": 4,
 "nbformat_minor": 2
}
