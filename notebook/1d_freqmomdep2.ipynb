{
 "cells": [
  {
   "cell_type": "markdown",
   "metadata": {},
   "source": [
    "# Compress momentum dependence at the lowest frequency"
   ]
  },
  {
   "cell_type": "code",
   "execution_count": null,
   "metadata": {},
   "outputs": [],
   "source": [
    "using Revise\n",
    "using PyPlot\n",
    "using LaTeXStrings\n",
    "using PyCall\n",
    "\n",
    "using LinearAlgebra\n",
    "using SparseIR\n",
    "using MultiScales\n",
    "\n",
    "newaxis = [CartesianIndex()]"
   ]
  },
  {
   "cell_type": "code",
   "execution_count": null,
   "metadata": {},
   "outputs": [],
   "source": [
    "rcParams = PyDict(matplotlib[\"rcParams\"])\n",
    "rcParams[\"font.size\"] = 18\n",
    "rcParams[\"text.usetex\"] = true\n",
    "rcParams[\"font.family\"] = \"serif\"\n",
    "rcParams[\"font.serif\"] = [\"Computer Modern Roman\"]"
   ]
  },
  {
   "cell_type": "code",
   "execution_count": null,
   "metadata": {},
   "outputs": [],
   "source": [
    "BLAS.set_num_threads(16)"
   ]
  },
  {
   "cell_type": "code",
   "execution_count": null,
   "metadata": {},
   "outputs": [],
   "source": [
    "println(Threads.nthreads())"
   ]
  },
  {
   "cell_type": "code",
   "execution_count": null,
   "metadata": {},
   "outputs": [],
   "source": [
    "using ITensors\n",
    "ITensors.disable_warn_order()\n",
    "println(ITensors.blas_get_num_threads())"
   ]
  },
  {
   "cell_type": "code",
   "execution_count": null,
   "metadata": {},
   "outputs": [],
   "source": [
    "ek(k) = 2*cos(k)"
   ]
  },
  {
   "cell_type": "code",
   "execution_count": null,
   "metadata": {},
   "outputs": [],
   "source": [
    "# N = 16 is expensive, requiring more than 1GB. Try N = 10 for a quick check.\n",
    "N = 16\n",
    "half_N = N ÷ 2\n",
    "nk = 2^N\n",
    "kmesh = LinRange(0, 2π, nk)\n",
    "@show 2^half_N"
   ]
  },
  {
   "cell_type": "code",
   "execution_count": null,
   "metadata": {},
   "outputs": [],
   "source": [
    "sites_all = []\n",
    "M_all = []\n",
    "g_all = []\n",
    "s_all = []\n",
    "betas = [10.0, 100.0, 1000.0]\n",
    "target_link = 3\n",
    "\n",
    "for beta in betas\n",
    "    wmax = 10.0\n",
    "\n",
    "    basis = FiniteTempBasis(Fermionic(), beta, wmax, 1e-10)\n",
    "    smpl = MatsubaraSampling(basis)\n",
    "\n",
    "    v = smpl.sampling_points\n",
    "    iv = SparseIR.valueim.(v, beta)\n",
    "    nw = length(v)\n",
    "\n",
    "    giv0 = 1 ./ (iv[:,newaxis] .- ek.(kmesh)[newaxis,:])\n",
    "\n",
    "    sitew = Index(nw, \"w\")\n",
    "    sitesk = [Index(2, \"Qubit,k=$k\") for k in 1:N]\n",
    "    tensor = ITensor(reshape(giv0, nw, repeat([2,], N)...), [sitew, reverse(sitesk)...])\n",
    "\n",
    "    sites = [sitew, sitesk...]\n",
    "\n",
    "    u, s, vt = svd(tensor, sites[1:target_link])\n",
    "    s_ = Vector(diag(s))\n",
    "\n",
    "    cutoff = 1E-8\n",
    "    maxdim = 20000\n",
    "    M = MPS(tensor, sites; cutoff=cutoff, maxdim=maxdim)\n",
    "\n",
    "    push!(g_all, giv0)\n",
    "    push!(sites_all, sites)\n",
    "    push!(M_all, M)\n",
    "    push!(s_all, s_)\n",
    "end"
   ]
  },
  {
   "cell_type": "code",
   "execution_count": null,
   "metadata": {},
   "outputs": [],
   "source": [
    "sites = sites_all[end]\n",
    "tensor_reconst = Array(reduce(*, M_all[end]), sites[1], reverse(sites[2:end]))\n",
    ";"
   ]
  },
  {
   "cell_type": "code",
   "execution_count": null,
   "metadata": {},
   "outputs": [],
   "source": [
    "tensor_reconst = reshape(tensor_reconst, dim(sites[1]), nk);"
   ]
  },
  {
   "cell_type": "code",
   "execution_count": null,
   "metadata": {},
   "outputs": [],
   "source": [
    "nc = 4\n",
    "#fig = figure(figsize=(6.4, nc*4.8))\n",
    "fig = figure(figsize=(6.4, nc*3.8))\n",
    "colors = [\"r\", \"b\", \"g\"]\n",
    "markers = [\"o\", \"x\", \"v\"]\n",
    "ls = [\"-\", \"-.\", \"--\"]\n",
    "\n",
    "subplot(nc, 1, 1)\n",
    "annotate(\"(a)\", xycoords=\"axes fraction\", xy=(-0.2,1.0), fontsize=21)\n",
    "annotate(\"Link \" * L\"n=%$(target_link)\", xycoords=\"axes fraction\", xy=(0.25,0.5), fontsize=21)\n",
    "for (idx, beta) in enumerate(betas)\n",
    "    s_ = s_all[idx]\n",
    "    x = 1:length(s_)\n",
    "    semilogy(x, s_ ./ s_[1], color=colors[idx], ls=ls[idx], label=L\"\\beta=%$(Int(beta))\", marker=markers[idx])\n",
    "    xlim([1, length(s_)])\n",
    "end\n",
    "legend(frameon=false)\n",
    "ylim([1e-12, 1])\n",
    "xlabel(\"Index of singular values\")\n",
    "ylabel(\"Singular values\")\n",
    "\n",
    "subplot(nc, 1, 2)\n",
    "annotate(\"(b)\", xycoords=\"axes fraction\", xy=(-0.2,1.0), fontsize=21)\n",
    "for (idx, beta) in enumerate(betas)\n",
    "    sites = sites_all[idx]\n",
    "    M = M_all[idx]\n",
    "    maxlinkdims_ = MultiScales.maxlinkdims(sites)\n",
    "    links = collect(1:length(maxlinkdims_))\n",
    "    semilogy(links, maxlinkdims_, ls=ls[idx], color=colors[idx])\n",
    "    semilogy(links, MultiScales.linkdims(M), color=colors[idx], ls=ls[idx], label=L\"\\beta=%$(Int(beta))\", marker=markers[idx])\n",
    "end\n",
    "axvline(target_link, ls=\"--\", color=\"k\")\n",
    "xticks(1:length(sites)-1)\n",
    "legend(frameon=false)\n",
    "xlabel(\"Link \" * L\"n\")\n",
    "ylabel(\"Link dimension\")\n",
    "ylim([1,3e+3])\n",
    "\n",
    "subplot(nc, 1, 3)\n",
    "annotate(\"(c)\", xycoords=\"axes fraction\", xy=(-0.2,1.0), fontsize=21)\n",
    "annotate(L\"\\beta=%$(Int(betas[end]))\", xycoords=\"axes fraction\", xy=(0.05, 0.9))\n",
    "\n",
    "nw = size(tensor_reconst, 1)\n",
    "y = tensor_reconst[nw÷2+1,:]\n",
    "y2 = g_all[end][nw÷2+1,:]\n",
    "\n",
    "x = kmesh / π\n",
    "semilogy(x, abs.(y), marker=\"x\", markersize=4, label=\"Reconstructed\", ls=\"-\")\n",
    "semilogy(x, abs.(y-y2), label=\"Error\")\n",
    "xlabel(L\"k/\\pi\")\n",
    "ylabel(L\"|G(\\mathrm{i}\\nu_0, k)|\")\n",
    "legend(frameon=false)\n",
    "xlim([0.45, 0.55])\n",
    "ylim([1e-7, 1e+3])\n",
    "#title(L\"\\beta=%$(Int(betas[end]))\")\n",
    "\n",
    "subplot(nc, 1, 4)\n",
    "annotate(\"(d)\", xycoords=\"axes fraction\", xy=(-0.2,1.0), fontsize=21)\n",
    "\n",
    "y = [maximum(MultiScales.linkdims(M)) for M in M_all]\n",
    "@show y\n",
    "loglog(betas, y, marker=\"o\")\n",
    "loglog(betas, 2 .* betas .^ 0.25, label=L\"\\propto \\beta^{1/4}\", ls=\"--\", color=\"k\")\n",
    "xlabel(L\"\\beta\")\n",
    "ylabel(\"Bond dimension\")\n",
    "ylim([2,50])\n",
    "legend(frameon=false)\n",
    "\n",
    "tight_layout()\n",
    "savefig(\"1d_freqmomdep_N$N.pdf\", bbox_inches=\"tight\", transparent=true)\n",
    "display(gcf())\n",
    "\n",
    "close(fig)"
   ]
  },
  {
   "cell_type": "code",
   "execution_count": null,
   "metadata": {},
   "outputs": [],
   "source": []
  },
  {
   "cell_type": "code",
   "execution_count": null,
   "metadata": {},
   "outputs": [],
   "source": []
  },
  {
   "cell_type": "code",
   "execution_count": null,
   "metadata": {},
   "outputs": [],
   "source": []
  }
 ],
 "metadata": {
  "kernelspec": {
   "display_name": "Julia 1.8.0",
   "language": "julia",
   "name": "julia-1.8"
  },
  "language_info": {
   "file_extension": ".jl",
   "mimetype": "application/julia",
   "name": "julia",
   "version": "1.8.0"
  },
  "orig_nbformat": 4
 },
 "nbformat": 4,
 "nbformat_minor": 2
}
