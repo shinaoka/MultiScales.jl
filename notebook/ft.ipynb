{
 "cells": [
  {
   "cell_type": "markdown",
   "metadata": {},
   "source": [
    "# Fourier transform"
   ]
  },
  {
   "cell_type": "code",
   "execution_count": null,
   "metadata": {},
   "outputs": [],
   "source": [
    "using Revise\n",
    "using Plots\n",
    "using LinearAlgebra\n",
    "using SparseIR\n",
    "import SparseIR: valueim\n",
    "\n",
    "newaxis = [CartesianIndex()]"
   ]
  },
  {
   "cell_type": "code",
   "execution_count": null,
   "metadata": {},
   "outputs": [],
   "source": [
    "BLAS.set_num_threads(16)"
   ]
  },
  {
   "cell_type": "code",
   "execution_count": null,
   "metadata": {},
   "outputs": [],
   "source": [
    "println(Threads.nthreads())"
   ]
  },
  {
   "cell_type": "code",
   "execution_count": null,
   "metadata": {},
   "outputs": [],
   "source": [
    "using ITensors\n",
    "\n",
    "println(ITensors.blas_get_num_threads())"
   ]
  },
  {
   "cell_type": "markdown",
   "metadata": {},
   "source": [
    "We want create a MPO for Fourier transform:\n",
    "$$\n",
    "F(t) = \\sum_{x=0}^{N-1} f(x) e^{-i \\frac{2\\pi t x}{N}} = \\sum_{x=0}^{N-1} T(t, x) f(x).\n",
    "$$\n",
    "\n",
    "MPS/MPO tensors are indexed from the left to the right in ascending order.\n",
    "We assign the least significant digit to the first or the last tensor.\n",
    "Let us stick to the former convention.\n",
    "\n",
    "$x=0,...., 2^Q-1$ can be represented as a binary number, $0b001, 0b010, ..., 0b111 (=0b x_{Q-1} x_{Q-2} ... x_0)$ for $Q=3$.\n",
    "\n",
    "$$\n",
    "F(t_0, \\cdots, t_{Q-1}) = \\sum_{x_0=0}^1 \\cdots \\sum_{x_{Q-1}=0}^1  T(t_0, \\cdots, T_{Q-1}, x_0, \\cdots, x_{Q-1}) f(x_0, \\cdots, x_{Q-1}).\n",
    "$$\n",
    "\n",
    "We transpose the tensor $T$ as $\\bar T$:\n",
    "\n",
    "$$\n",
    "\\bar T(t_0, x_0, \\cdots, T_{Q-1}, x_{Q-1}) = T(t_0, \\cdots, T_{Q-1}, x_0, \\cdots, x_{Q-1})\n",
    "$$"
   ]
  },
  {
   "cell_type": "code",
   "execution_count": null,
   "metadata": {},
   "outputs": [],
   "source": [
    "nbit = 8\n",
    "N = 2^nbit\n",
    "tmat = zeros(ComplexF64, N, N)\n",
    "\n",
    "for t in 0:N-1, x in 0:N-1\n",
    "    tmat[t+1, x+1] = exp(-im * 2π * t * x/N)\n",
    "end\n",
    "#@show tmat\n",
    "\n",
    "tmat = reshape(tmat, ntuple(x->2, 2*nbit))\n",
    "# At point, the indices of `tmat` is (x_0, ..., x_{Q-1}, t_0, ..., t_{Q-1})\n",
    ";"
   ]
  },
  {
   "cell_type": "code",
   "execution_count": null,
   "metadata": {},
   "outputs": [],
   "source": [
    "# We permutate dimensions to have (x_{Q-1}, t_0, ..., x_0, t_{Q-1})\n",
    "#\n",
    "# Note:\n",
    "# If we align the indices as (x_0, t_0, ..., x_{Q-1}, t_{Q-1}), there is no low-rank structure.\n",
    "# x_0 and t_{Q-1} must be paired.\n",
    "dims = Int[]\n",
    "for i in 1:nbit\n",
    "    push!(dims, nbit+1-i)\n",
    "    push!(dims, i+nbit)\n",
    "end\n",
    "\n",
    "tmat2 = permutedims(tmat, dims)\n",
    "tmat2 = reshape(tmat2, N, N)\n",
    ";"
   ]
  },
  {
   "cell_type": "code",
   "execution_count": null,
   "metadata": {},
   "outputs": [],
   "source": [
    "svd_res = svd(tmat2)\n",
    "svd_res.S"
   ]
  }
 ],
 "metadata": {
  "kernelspec": {
   "display_name": "Julia 1.7.3",
   "language": "julia",
   "name": "julia-1.7"
  },
  "language_info": {
   "file_extension": ".jl",
   "mimetype": "application/julia",
   "name": "julia",
   "version": "1.7.3"
  },
  "orig_nbformat": 4
 },
 "nbformat": 4,
 "nbformat_minor": 2
}
