{
 "cells": [
  {
   "cell_type": "markdown",
   "metadata": {},
   "source": [
    "# Compress momentum dependence at the lowest frequency"
   ]
  },
  {
   "cell_type": "code",
   "execution_count": null,
   "metadata": {},
   "outputs": [],
   "source": [
    "using Revise\n",
    "using Plots\n",
    "using LinearAlgebra\n",
    "\n",
    "newaxis = [CartesianIndex()]"
   ]
  },
  {
   "cell_type": "code",
   "execution_count": null,
   "metadata": {},
   "outputs": [],
   "source": [
    "BLAS.set_num_threads(16)"
   ]
  },
  {
   "cell_type": "code",
   "execution_count": null,
   "metadata": {},
   "outputs": [],
   "source": [
    "println(Threads.nthreads())"
   ]
  },
  {
   "cell_type": "code",
   "execution_count": null,
   "metadata": {},
   "outputs": [],
   "source": [
    "using ITensors\n",
    "import ITensors.NDTensors\n",
    "\n",
    "println(ITensors.blas_get_num_threads())"
   ]
  },
  {
   "cell_type": "code",
   "execution_count": null,
   "metadata": {},
   "outputs": [],
   "source": [
    "beta = 100.0\n",
    "\n",
    "μ = 0.5\n",
    "\n",
    "ek(kx, ky) = 2*cos(kx) + 2*cos(ky)"
   ]
  },
  {
   "cell_type": "code",
   "execution_count": null,
   "metadata": {},
   "outputs": [],
   "source": [
    "N = 10\n",
    "half_N = N ÷ 2\n",
    "nk = 2^N\n",
    "nk"
   ]
  },
  {
   "cell_type": "code",
   "execution_count": null,
   "metadata": {},
   "outputs": [],
   "source": [
    "kmesh = LinRange(0, 2π, nk)\n",
    "v = [1]\n",
    "iv = im * v .* (π/beta)\n",
    "nw = length(v)\n",
    "\n",
    "giv0 = Array{ComplexF64}(undef, nw, nk, nk)\n",
    "for kx in 1:nk, ky in 1:nk, w in 1:nw\n",
    "    giv0[w, kx, ky] = 1 / (iv[w] - ek(2π*kx/nk, 2π*ky/nk) + μ)\n",
    "end\n",
    "size(giv0)"
   ]
  },
  {
   "cell_type": "code",
   "execution_count": null,
   "metadata": {},
   "outputs": [],
   "source": [
    "heatmap(reshape(abs.(giv0), nk, nk))"
   ]
  },
  {
   "cell_type": "code",
   "execution_count": null,
   "metadata": {},
   "outputs": [],
   "source": [
    "tensor = reshape(giv0, nw, repeat([2,], 2*N)...)\n",
    ";"
   ]
  },
  {
   "cell_type": "code",
   "execution_count": null,
   "metadata": {},
   "outputs": [],
   "source": [
    "indsx = [Index(2, \"Qubit,kx=$(k)\") for k in 1:N]\n",
    "indsy = [Index(2, \"Qubit,ky=$(k)\") for k in 1:N]\n",
    "inds = vcat(indsx, indsy)\n",
    "itens = ITensor(tensor, inds)"
   ]
  },
  {
   "cell_type": "code",
   "execution_count": null,
   "metadata": {},
   "outputs": [],
   "source": [
    "half_inds_ = Tuple(vcat(indsx[1:half_N], indsy[1:half_N]))\n",
    "@show half_inds_\n",
    "u, s, vt = svd(itens, half_inds_)\n",
    ";"
   ]
  },
  {
   "cell_type": "code",
   "execution_count": null,
   "metadata": {},
   "outputs": [],
   "source": [
    "s_ = Vector(diag(s))\n",
    "plot(s_/s_[1], yaxis=:log)"
   ]
  },
  {
   "cell_type": "code",
   "execution_count": null,
   "metadata": {},
   "outputs": [],
   "source": [
    "sites = similar(inds)\n",
    "for k in 1:N\n",
    "    sites[2*k-1] = indsx[k]\n",
    "    sites[2*k] = indsy[k]\n",
    "end\n",
    "sites"
   ]
  },
  {
   "cell_type": "code",
   "execution_count": null,
   "metadata": {},
   "outputs": [],
   "source": [
    "ITensors.set_warn_order(10000)\n",
    "\n",
    "cutoff = 1E-10\n",
    "maxdim = 20000\n",
    "M = MPS(tensor, sites; cutoff=cutoff, maxdim=maxdim)"
   ]
  },
  {
   "cell_type": "code",
   "execution_count": null,
   "metadata": {},
   "outputs": [],
   "source": [
    "tensor_reconst = Array(reduce(*, M), sites...)\n",
    ";"
   ]
  },
  {
   "cell_type": "code",
   "execution_count": null,
   "metadata": {},
   "outputs": [],
   "source": [
    "# Error scaled by the maxvalue of the original data\n",
    "error = abs.(vec(tensor_reconst) .- vec(tensor))\n",
    "y1 = error ./ maximum(abs, tensor)\n",
    "y2 = abs.(vec(tensor))\n",
    "plot([y1, y2], yaxis=:log, ylims=(1e-12, 100))"
   ]
  },
  {
   "cell_type": "code",
   "execution_count": null,
   "metadata": {},
   "outputs": [],
   "source": [
    "bonddims = collect(size(m)[1] for m in M)\n",
    "plot(bonddims)"
   ]
  }
 ],
 "metadata": {
  "kernelspec": {
   "display_name": "Julia 1.7.3",
   "language": "julia",
   "name": "julia-1.7"
  },
  "language_info": {
   "file_extension": ".jl",
   "mimetype": "application/julia",
   "name": "julia",
   "version": "1.7.3"
  }
 },
 "nbformat": 4,
 "nbformat_minor": 4
}
