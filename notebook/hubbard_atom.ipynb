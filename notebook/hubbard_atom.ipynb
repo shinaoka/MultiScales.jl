{
 "cells": [
  {
   "cell_type": "markdown",
   "metadata": {},
   "source": [
    "# Vertices for Hubbard atom"
   ]
  },
  {
   "cell_type": "code",
   "execution_count": null,
   "metadata": {},
   "outputs": [],
   "source": [
    "using Revise\n",
    "using Plots\n",
    "using LinearAlgebra\n",
    "using SparseIR\n",
    "import SparseIR: valueim\n",
    "using OvercompleteIR\n",
    "import OvercompleteIR: PHConvention, freq_box\n",
    "import OvercompleteIR.Atom: HubbardAtom, MagneticChannel, chi0, _delta, full_vertex, gamma\n",
    "\n",
    "newaxis = [CartesianIndex()]"
   ]
  },
  {
   "cell_type": "code",
   "execution_count": null,
   "metadata": {},
   "outputs": [],
   "source": [
    "BLAS.set_num_threads(16)"
   ]
  },
  {
   "cell_type": "code",
   "execution_count": null,
   "metadata": {},
   "outputs": [],
   "source": [
    "println(Threads.nthreads())"
   ]
  },
  {
   "cell_type": "code",
   "execution_count": null,
   "metadata": {},
   "outputs": [],
   "source": [
    "using ITensors\n",
    "\n",
    "println(ITensors.blas_get_num_threads())"
   ]
  },
  {
   "cell_type": "code",
   "execution_count": null,
   "metadata": {},
   "outputs": [],
   "source": [
    "N = 10\n",
    "half_N = N ÷ 2\n",
    "nw = 2^N\n",
    "half_nw = 2^(N-1)\n",
    "nw\n"
   ]
  },
  {
   "cell_type": "code",
   "execution_count": null,
   "metadata": {},
   "outputs": [],
   "source": [
    "wb = 0\n",
    "box = Matrix{Tuple{FermionicFreq,FermionicFreq,BosonicFreq}}(undef, nw, nw)\n",
    "for i in -half_nw:half_nw-1, j in -half_nw:half_nw-1\n",
    "    box[i+half_nw+1, j+half_nw+1] = (FermionicFreq(2*i+1), FermionicFreq(2*j+1), BosonicFreq(2*wb))\n",
    "end"
   ]
  },
  {
   "cell_type": "code",
   "execution_count": null,
   "metadata": {},
   "outputs": [],
   "source": [
    "U = 0.5 \n",
    "beta  = 1.0\n",
    "atom = HubbardAtom(U, beta)\n",
    "\n",
    "chi0_(ch, atom::HubbardAtom, nnpm::Tuple{FermionicFreq, FermionicFreq, BosonicFreq}) = chi0(ch, atom, (nnpm[1], nnpm[3])) * _delta(nnpm[1], nnpm[2])"
   ]
  },
  {
   "cell_type": "code",
   "execution_count": null,
   "metadata": {},
   "outputs": [],
   "source": [
    "gamma_box = gamma.(MagneticChannel(), atom, box)\n",
    "chi0_box = chi0_.(MagneticChannel(), atom, box)\n",
    "full_box = full_vertex.(MagneticChannel(), atom, box)\n",
    ";"
   ]
  },
  {
   "cell_type": "code",
   "execution_count": null,
   "metadata": {},
   "outputs": [],
   "source": [
    "full_reconst = gamma_box + beta^(-2) * gamma_box * chi0_box * full_box\n",
    ";"
   ]
  },
  {
   "cell_type": "code",
   "execution_count": null,
   "metadata": {},
   "outputs": [],
   "source": [
    "println(maximum(abs, full_box - full_reconst))\n",
    "println(maximum(abs, full_box))"
   ]
  },
  {
   "cell_type": "code",
   "execution_count": null,
   "metadata": {},
   "outputs": [],
   "source": [
    "heatmap(abs.(full_box))"
   ]
  },
  {
   "cell_type": "code",
   "execution_count": null,
   "metadata": {},
   "outputs": [],
   "source": [
    "heatmap(abs.(gamma_box))"
   ]
  },
  {
   "cell_type": "code",
   "execution_count": null,
   "metadata": {},
   "outputs": [],
   "source": [
    "function to_tensor(vertex)\n",
    "    # (f_1, ..., f_N, b_1, ..., b_N)\n",
    "    # The indices f_1 and b_1 correspond to the smallest scale in the momentum space.\n",
    "    # The indices f_N and b_N correspond to the largest scale in the momentum space.\n",
    "    tensor = reshape(vertex, repeat([2,], 2*N)...)\n",
    "\n",
    "    # Rearrange the indices so that indices for larger length scales are to the right.\n",
    "    # ( (f_1, f_2), ...., (b_1, b_N))\n",
    "    dims = Int[]\n",
    "    for i in 1:N\n",
    "        push!(dims, i)\n",
    "        push!(dims, i+N)\n",
    "    end\n",
    "    tensor = reshape(permutedims(tensor, dims), repeat([4,], N)...)\n",
    "    return tensor\n",
    "end"
   ]
  },
  {
   "cell_type": "code",
   "execution_count": null,
   "metadata": {},
   "outputs": [],
   "source": [
    "u, s, vt = svd(reshape(to_tensor(full_box), :, 4^half_N))\n",
    "plot(s/s[1], yaxis=:log)"
   ]
  },
  {
   "cell_type": "code",
   "execution_count": null,
   "metadata": {},
   "outputs": [],
   "source": [
    "u, s, vt = svd(reshape(to_tensor(chi0_box), :, 4^half_N))\n",
    "plot(s/s[1], yaxis=:log)"
   ]
  },
  {
   "cell_type": "code",
   "execution_count": null,
   "metadata": {},
   "outputs": [],
   "source": [
    "u, s, vt = svd(reshape(to_tensor(gamma_box), :, 4^half_N))\n",
    "plot(s/s[1], yaxis=:log)"
   ]
  },
  {
   "cell_type": "code",
   "execution_count": null,
   "metadata": {},
   "outputs": [],
   "source": [
    "sites = siteinds(4, N)\n",
    "\n",
    "function tensor_to_mps(tensor)\n",
    "    cutoff = 1E-10\n",
    "    maxdim = 100\n",
    "    M = MPS(tensor, sites; cutoff=cutoff, maxdim=maxdim)\n",
    "    return M \n",
    "end"
   ]
  },
  {
   "cell_type": "code",
   "execution_count": null,
   "metadata": {},
   "outputs": [],
   "source": [
    "chi0_mps = tensor_to_mps(to_tensor(chi0_box))"
   ]
  },
  {
   "cell_type": "code",
   "execution_count": null,
   "metadata": {},
   "outputs": [],
   "source": [
    "full_mps = tensor_to_mps(to_tensor(full_box))"
   ]
  },
  {
   "cell_type": "code",
   "execution_count": null,
   "metadata": {},
   "outputs": [],
   "source": [
    "gamma_mps = tensor_to_mps(to_tensor(gamma_box))"
   ]
  },
  {
   "cell_type": "code",
   "execution_count": null,
   "metadata": {},
   "outputs": [],
   "source": [
    "chi0_reconst = Array(reduce(*, chi0_mps), sites...)\n",
    "full_reconst = Array(reduce(*, full_mps), sites...)\n",
    "gamma_reconst = Array(reduce(*, gamma_mps), sites...)\n",
    ";"
   ]
  },
  {
   "cell_type": "code",
   "execution_count": null,
   "metadata": {},
   "outputs": [],
   "source": [
    "function from_tensor(tensor)\n",
    "\n",
    "    # (f_1, b_1, ...., f_N, b_N) => (f_1, ..., f_N, b_1, ..., b_N)\n",
    "    dims = Int[]\n",
    "    for i in 1:N\n",
    "        push!(dims, 2*i-1)\n",
    "    end\n",
    "    for i in 1:N\n",
    "        push!(dims, 2*i)\n",
    "    end\n",
    "    println(dims)\n",
    "\n",
    "    res = reshape(tensor, repeat([2,], 2*N)...)\n",
    "    println(size(res))\n",
    "    res = permutedims(res, dims)\n",
    "    return reshape(res, 2^N, 2^N)\n",
    "end"
   ]
  },
  {
   "cell_type": "code",
   "execution_count": null,
   "metadata": {},
   "outputs": [],
   "source": [
    "heatmap(abs.(from_tensor(full_reconst)))"
   ]
  },
  {
   "cell_type": "code",
   "execution_count": null,
   "metadata": {},
   "outputs": [],
   "source": [
    "maximum(abs, from_tensor(full_reconst) .- full_box)"
   ]
  }
 ],
 "metadata": {
  "kernelspec": {
   "display_name": "Julia 1.7.3",
   "language": "julia",
   "name": "julia-1.7"
  },
  "language_info": {
   "file_extension": ".jl",
   "mimetype": "application/julia",
   "name": "julia",
   "version": "1.7.3"
  },
  "orig_nbformat": 4
 },
 "nbformat": 4,
 "nbformat_minor": 2
}
