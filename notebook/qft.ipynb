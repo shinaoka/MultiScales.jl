{
 "cells": [
  {
   "cell_type": "code",
   "execution_count": 11,
   "metadata": {},
   "outputs": [
    {
     "data": {
      "text/plain": [
       "1-element Vector{CartesianIndex{0}}:\n",
       " CartesianIndex()"
      ]
     },
     "execution_count": 11,
     "metadata": {},
     "output_type": "execute_result"
    }
   ],
   "source": [
    "using Revise\n",
    "using Plots\n",
    "using MultiScales\n",
    "using ITensors\n",
    "import LinearAlgebra: I\n",
    "ITensors.set_warn_order(1000)\n",
    "\n",
    "newaxis = [CartesianIndex()]"
   ]
  },
  {
   "cell_type": "code",
   "execution_count": 2,
   "metadata": {},
   "outputs": [],
   "source": [
    "nbits = [2, 4, 6, 8, 10]\n",
    "bondims = Int[]\n",
    "for nbit in nbits\n",
    "    N = 2^nbit\n",
    "    sites = siteinds(\"Qubit\", nbit)\n",
    "    M = MultiScales._qft(sites)\n",
    "    push!(bondims, maximum(collect(size(m)[1] for m in M)))\n",
    "end"
   ]
  },
  {
   "cell_type": "code",
   "execution_count": 3,
   "metadata": {},
   "outputs": [
    {
     "data": {
      "image/svg+xml": [
       "<?xml version=\"1.0\" encoding=\"utf-8\"?>\n",
       "<svg xmlns=\"http://www.w3.org/2000/svg\" xmlns:xlink=\"http://www.w3.org/1999/xlink\" width=\"600\" height=\"400\" viewBox=\"0 0 2400 1600\">\n",
       "<defs>\n",
       "  <clipPath id=\"clip650\">\n",
       "    <rect x=\"0\" y=\"0\" width=\"2400\" height=\"1600\"/>\n",
       "  </clipPath>\n",
       "</defs>\n",
       "<path clip-path=\"url(#clip650)\" d=\"\n",
       "M0 1600 L2400 1600 L2400 0 L0 0  Z\n",
       "  \" fill=\"#ffffff\" fill-rule=\"evenodd\" fill-opacity=\"1\"/>\n",
       "<defs>\n",
       "  <clipPath id=\"clip651\">\n",
       "    <rect x=\"480\" y=\"0\" width=\"1681\" height=\"1600\"/>\n",
       "  </clipPath>\n",
       "</defs>\n",
       "<path clip-path=\"url(#clip650)\" d=\"\n",
       "M112.177 1486.45 L2352.76 1486.45 L2352.76 47.2441 L112.177 47.2441  Z\n",
       "  \" fill=\"#ffffff\" fill-rule=\"evenodd\" fill-opacity=\"1\"/>\n",
       "<defs>\n",
       "  <clipPath id=\"clip652\">\n",
       "    <rect x=\"112\" y=\"47\" width=\"2242\" height=\"1440\"/>\n",
       "  </clipPath>\n",
       "</defs>\n",
       "<polyline clip-path=\"url(#clip652)\" style=\"stroke:#000000; stroke-linecap:butt; stroke-linejoin:round; stroke-width:2; stroke-opacity:0.1; fill:none\" points=\"\n",
       "  175.59,1486.45 175.59,47.2441 \n",
       "  \"/>\n",
       "<polyline clip-path=\"url(#clip652)\" style=\"stroke:#000000; stroke-linecap:butt; stroke-linejoin:round; stroke-width:2; stroke-opacity:0.1; fill:none\" points=\"\n",
       "  704.028,1486.45 704.028,47.2441 \n",
       "  \"/>\n",
       "<polyline clip-path=\"url(#clip652)\" style=\"stroke:#000000; stroke-linecap:butt; stroke-linejoin:round; stroke-width:2; stroke-opacity:0.1; fill:none\" points=\"\n",
       "  1232.47,1486.45 1232.47,47.2441 \n",
       "  \"/>\n",
       "<polyline clip-path=\"url(#clip652)\" style=\"stroke:#000000; stroke-linecap:butt; stroke-linejoin:round; stroke-width:2; stroke-opacity:0.1; fill:none\" points=\"\n",
       "  1760.9,1486.45 1760.9,47.2441 \n",
       "  \"/>\n",
       "<polyline clip-path=\"url(#clip652)\" style=\"stroke:#000000; stroke-linecap:butt; stroke-linejoin:round; stroke-width:2; stroke-opacity:0.1; fill:none\" points=\"\n",
       "  2289.34,1486.45 2289.34,47.2441 \n",
       "  \"/>\n",
       "<polyline clip-path=\"url(#clip650)\" style=\"stroke:#000000; stroke-linecap:butt; stroke-linejoin:round; stroke-width:4; stroke-opacity:1; fill:none\" points=\"\n",
       "  112.177,1486.45 2352.76,1486.45 \n",
       "  \"/>\n",
       "<polyline clip-path=\"url(#clip650)\" style=\"stroke:#000000; stroke-linecap:butt; stroke-linejoin:round; stroke-width:4; stroke-opacity:1; fill:none\" points=\"\n",
       "  175.59,1486.45 175.59,1467.55 \n",
       "  \"/>\n",
       "<polyline clip-path=\"url(#clip650)\" style=\"stroke:#000000; stroke-linecap:butt; stroke-linejoin:round; stroke-width:4; stroke-opacity:1; fill:none\" points=\"\n",
       "  704.028,1486.45 704.028,1467.55 \n",
       "  \"/>\n",
       "<polyline clip-path=\"url(#clip650)\" style=\"stroke:#000000; stroke-linecap:butt; stroke-linejoin:round; stroke-width:4; stroke-opacity:1; fill:none\" points=\"\n",
       "  1232.47,1486.45 1232.47,1467.55 \n",
       "  \"/>\n",
       "<polyline clip-path=\"url(#clip650)\" style=\"stroke:#000000; stroke-linecap:butt; stroke-linejoin:round; stroke-width:4; stroke-opacity:1; fill:none\" points=\"\n",
       "  1760.9,1486.45 1760.9,1467.55 \n",
       "  \"/>\n",
       "<polyline clip-path=\"url(#clip650)\" style=\"stroke:#000000; stroke-linecap:butt; stroke-linejoin:round; stroke-width:4; stroke-opacity:1; fill:none\" points=\"\n",
       "  2289.34,1486.45 2289.34,1467.55 \n",
       "  \"/>\n",
       "<path clip-path=\"url(#clip650)\" d=\"M170.243 1544.91 L186.562 1544.91 L186.562 1548.85 L164.618 1548.85 L164.618 1544.91 Q167.28 1542.16 171.863 1537.53 Q176.469 1532.88 177.65 1531.53 Q179.895 1529.01 180.775 1527.27 Q181.678 1525.51 181.678 1523.82 Q181.678 1521.07 179.733 1519.33 Q177.812 1517.6 174.71 1517.6 Q172.511 1517.6 170.057 1518.36 Q167.627 1519.13 164.849 1520.68 L164.849 1515.95 Q167.673 1514.82 170.127 1514.24 Q172.581 1513.66 174.618 1513.66 Q179.988 1513.66 183.182 1516.35 Q186.377 1519.03 186.377 1523.52 Q186.377 1525.65 185.567 1527.57 Q184.78 1529.47 182.673 1532.07 Q182.094 1532.74 178.993 1535.95 Q175.891 1539.15 170.243 1544.91 Z\" fill=\"#000000\" fill-rule=\"evenodd\" fill-opacity=\"1\" /><path clip-path=\"url(#clip650)\" d=\"M707.037 1518.36 L695.232 1536.81 L707.037 1536.81 L707.037 1518.36 M705.811 1514.29 L711.69 1514.29 L711.69 1536.81 L716.621 1536.81 L716.621 1540.7 L711.69 1540.7 L711.69 1548.85 L707.037 1548.85 L707.037 1540.7 L691.436 1540.7 L691.436 1536.19 L705.811 1514.29 Z\" fill=\"#000000\" fill-rule=\"evenodd\" fill-opacity=\"1\" /><path clip-path=\"url(#clip650)\" d=\"M1232.87 1529.7 Q1229.72 1529.7 1227.87 1531.86 Q1226.04 1534.01 1226.04 1537.76 Q1226.04 1541.49 1227.87 1543.66 Q1229.72 1545.82 1232.87 1545.82 Q1236.02 1545.82 1237.85 1543.66 Q1239.7 1541.49 1239.7 1537.76 Q1239.7 1534.01 1237.85 1531.86 Q1236.02 1529.7 1232.87 1529.7 M1242.15 1515.05 L1242.15 1519.31 Q1240.39 1518.48 1238.59 1518.04 Q1236.81 1517.6 1235.05 1517.6 Q1230.42 1517.6 1227.96 1520.72 Q1225.53 1523.85 1225.19 1530.17 Q1226.55 1528.15 1228.61 1527.09 Q1230.67 1526 1233.15 1526 Q1238.36 1526 1241.37 1529.17 Q1244.4 1532.32 1244.4 1537.76 Q1244.4 1543.08 1241.25 1546.3 Q1238.1 1549.52 1232.87 1549.52 Q1226.88 1549.52 1223.71 1544.94 Q1220.53 1540.33 1220.53 1531.6 Q1220.53 1523.41 1224.42 1518.55 Q1228.31 1513.66 1234.86 1513.66 Q1236.62 1513.66 1238.4 1514.01 Q1240.21 1514.36 1242.15 1515.05 Z\" fill=\"#000000\" fill-rule=\"evenodd\" fill-opacity=\"1\" /><path clip-path=\"url(#clip650)\" d=\"M1760.9 1532.44 Q1757.57 1532.44 1755.65 1534.22 Q1753.75 1536 1753.75 1539.13 Q1753.75 1542.25 1755.65 1544.03 Q1757.57 1545.82 1760.9 1545.82 Q1764.24 1545.82 1766.16 1544.03 Q1768.08 1542.23 1768.08 1539.13 Q1768.08 1536 1766.16 1534.22 Q1764.26 1532.44 1760.9 1532.44 M1756.23 1530.45 Q1753.22 1529.7 1751.53 1527.64 Q1749.86 1525.58 1749.86 1522.62 Q1749.86 1518.48 1752.8 1516.07 Q1755.77 1513.66 1760.9 1513.66 Q1766.07 1513.66 1769.01 1516.07 Q1771.95 1518.48 1771.95 1522.62 Q1771.95 1525.58 1770.26 1527.64 Q1768.59 1529.7 1765.6 1530.45 Q1768.98 1531.23 1770.86 1533.52 Q1772.76 1535.82 1772.76 1539.13 Q1772.76 1544.15 1769.68 1546.83 Q1766.62 1549.52 1760.9 1549.52 Q1755.19 1549.52 1752.11 1546.83 Q1749.05 1544.15 1749.05 1539.13 Q1749.05 1535.82 1750.95 1533.52 Q1752.85 1531.23 1756.23 1530.45 M1754.52 1523.06 Q1754.52 1525.75 1756.18 1527.25 Q1757.87 1528.76 1760.9 1528.76 Q1763.91 1528.76 1765.6 1527.25 Q1767.32 1525.75 1767.32 1523.06 Q1767.32 1520.38 1765.6 1518.87 Q1763.91 1517.37 1760.9 1517.37 Q1757.87 1517.37 1756.18 1518.87 Q1754.52 1520.38 1754.52 1523.06 Z\" fill=\"#000000\" fill-rule=\"evenodd\" fill-opacity=\"1\" /><path clip-path=\"url(#clip650)\" d=\"M2264.03 1544.91 L2271.67 1544.91 L2271.67 1518.55 L2263.36 1520.21 L2263.36 1515.95 L2271.62 1514.29 L2276.3 1514.29 L2276.3 1544.91 L2283.94 1544.91 L2283.94 1548.85 L2264.03 1548.85 L2264.03 1544.91 Z\" fill=\"#000000\" fill-rule=\"evenodd\" fill-opacity=\"1\" /><path clip-path=\"url(#clip650)\" d=\"M2303.38 1517.37 Q2299.77 1517.37 2297.94 1520.93 Q2296.14 1524.47 2296.14 1531.6 Q2296.14 1538.71 2297.94 1542.27 Q2299.77 1545.82 2303.38 1545.82 Q2307.02 1545.82 2308.82 1542.27 Q2310.65 1538.71 2310.65 1531.6 Q2310.65 1524.47 2308.82 1520.93 Q2307.02 1517.37 2303.38 1517.37 M2303.38 1513.66 Q2309.19 1513.66 2312.25 1518.27 Q2315.33 1522.85 2315.33 1531.6 Q2315.33 1540.33 2312.25 1544.94 Q2309.19 1549.52 2303.38 1549.52 Q2297.57 1549.52 2294.49 1544.94 Q2291.44 1540.33 2291.44 1531.6 Q2291.44 1522.85 2294.49 1518.27 Q2297.57 1513.66 2303.38 1513.66 Z\" fill=\"#000000\" fill-rule=\"evenodd\" fill-opacity=\"1\" /><polyline clip-path=\"url(#clip652)\" style=\"stroke:#000000; stroke-linecap:butt; stroke-linejoin:round; stroke-width:2; stroke-opacity:0.1; fill:none\" points=\"\n",
       "  112.177,1445.72 2352.76,1445.72 \n",
       "  \"/>\n",
       "<polyline clip-path=\"url(#clip652)\" style=\"stroke:#000000; stroke-linecap:butt; stroke-linejoin:round; stroke-width:2; stroke-opacity:0.1; fill:none\" points=\"\n",
       "  112.177,1219.43 2352.76,1219.43 \n",
       "  \"/>\n",
       "<polyline clip-path=\"url(#clip652)\" style=\"stroke:#000000; stroke-linecap:butt; stroke-linejoin:round; stroke-width:2; stroke-opacity:0.1; fill:none\" points=\"\n",
       "  112.177,993.136 2352.76,993.136 \n",
       "  \"/>\n",
       "<polyline clip-path=\"url(#clip652)\" style=\"stroke:#000000; stroke-linecap:butt; stroke-linejoin:round; stroke-width:2; stroke-opacity:0.1; fill:none\" points=\"\n",
       "  112.177,766.846 2352.76,766.846 \n",
       "  \"/>\n",
       "<polyline clip-path=\"url(#clip652)\" style=\"stroke:#000000; stroke-linecap:butt; stroke-linejoin:round; stroke-width:2; stroke-opacity:0.1; fill:none\" points=\"\n",
       "  112.177,540.556 2352.76,540.556 \n",
       "  \"/>\n",
       "<polyline clip-path=\"url(#clip652)\" style=\"stroke:#000000; stroke-linecap:butt; stroke-linejoin:round; stroke-width:2; stroke-opacity:0.1; fill:none\" points=\"\n",
       "  112.177,314.266 2352.76,314.266 \n",
       "  \"/>\n",
       "<polyline clip-path=\"url(#clip652)\" style=\"stroke:#000000; stroke-linecap:butt; stroke-linejoin:round; stroke-width:2; stroke-opacity:0.1; fill:none\" points=\"\n",
       "  112.177,87.9763 2352.76,87.9763 \n",
       "  \"/>\n",
       "<polyline clip-path=\"url(#clip650)\" style=\"stroke:#000000; stroke-linecap:butt; stroke-linejoin:round; stroke-width:4; stroke-opacity:1; fill:none\" points=\"\n",
       "  112.177,1486.45 112.177,47.2441 \n",
       "  \"/>\n",
       "<polyline clip-path=\"url(#clip650)\" style=\"stroke:#000000; stroke-linecap:butt; stroke-linejoin:round; stroke-width:4; stroke-opacity:1; fill:none\" points=\"\n",
       "  112.177,1445.72 131.075,1445.72 \n",
       "  \"/>\n",
       "<polyline clip-path=\"url(#clip650)\" style=\"stroke:#000000; stroke-linecap:butt; stroke-linejoin:round; stroke-width:4; stroke-opacity:1; fill:none\" points=\"\n",
       "  112.177,1219.43 131.075,1219.43 \n",
       "  \"/>\n",
       "<polyline clip-path=\"url(#clip650)\" style=\"stroke:#000000; stroke-linecap:butt; stroke-linejoin:round; stroke-width:4; stroke-opacity:1; fill:none\" points=\"\n",
       "  112.177,993.136 131.075,993.136 \n",
       "  \"/>\n",
       "<polyline clip-path=\"url(#clip650)\" style=\"stroke:#000000; stroke-linecap:butt; stroke-linejoin:round; stroke-width:4; stroke-opacity:1; fill:none\" points=\"\n",
       "  112.177,766.846 131.075,766.846 \n",
       "  \"/>\n",
       "<polyline clip-path=\"url(#clip650)\" style=\"stroke:#000000; stroke-linecap:butt; stroke-linejoin:round; stroke-width:4; stroke-opacity:1; fill:none\" points=\"\n",
       "  112.177,540.556 131.075,540.556 \n",
       "  \"/>\n",
       "<polyline clip-path=\"url(#clip650)\" style=\"stroke:#000000; stroke-linecap:butt; stroke-linejoin:round; stroke-width:4; stroke-opacity:1; fill:none\" points=\"\n",
       "  112.177,314.266 131.075,314.266 \n",
       "  \"/>\n",
       "<polyline clip-path=\"url(#clip650)\" style=\"stroke:#000000; stroke-linecap:butt; stroke-linejoin:round; stroke-width:4; stroke-opacity:1; fill:none\" points=\"\n",
       "  112.177,87.9763 131.075,87.9763 \n",
       "  \"/>\n",
       "<path clip-path=\"url(#clip650)\" d=\"M59.8578 1459.06 L76.1772 1459.06 L76.1772 1463 L54.2328 1463 L54.2328 1459.06 Q56.8949 1456.31 61.4782 1451.68 Q66.0846 1447.02 67.2652 1445.68 Q69.5105 1443.16 70.3902 1441.42 Q71.2929 1439.66 71.2929 1437.97 Q71.2929 1435.22 69.3485 1433.48 Q67.4272 1431.75 64.3254 1431.75 Q62.1263 1431.75 59.6726 1432.51 Q57.2421 1433.27 54.4643 1434.82 L54.4643 1430.1 Q57.2884 1428.97 59.7421 1428.39 Q62.1958 1427.81 64.2328 1427.81 Q69.6031 1427.81 72.7976 1430.5 Q75.992 1433.18 75.992 1437.67 Q75.992 1439.8 75.1818 1441.72 Q74.3948 1443.62 72.2883 1446.21 Q71.7096 1446.88 68.6078 1450.1 Q65.5059 1453.3 59.8578 1459.06 Z\" fill=\"#000000\" fill-rule=\"evenodd\" fill-opacity=\"1\" /><path clip-path=\"url(#clip650)\" d=\"M69.0476 1218.07 Q72.404 1218.79 74.279 1221.06 Q76.1772 1223.33 76.1772 1226.66 Q76.1772 1231.78 72.6587 1234.58 Q69.1402 1237.38 62.6587 1237.38 Q60.4828 1237.38 58.168 1236.94 Q55.8764 1236.52 53.4227 1235.66 L53.4227 1231.15 Q55.3671 1232.28 57.6819 1232.86 Q59.9967 1233.44 62.5198 1233.44 Q66.918 1233.44 69.2096 1231.71 Q71.5244 1229.97 71.5244 1226.66 Q71.5244 1223.6 69.3717 1221.89 Q67.242 1220.15 63.4226 1220.15 L59.3949 1220.15 L59.3949 1216.31 L63.6078 1216.31 Q67.0569 1216.31 68.8855 1214.95 Q70.7142 1213.56 70.7142 1210.97 Q70.7142 1208.3 68.8161 1206.89 Q66.9411 1205.46 63.4226 1205.46 Q61.5013 1205.46 59.3023 1205.87 Q57.1032 1206.29 54.4643 1207.17 L54.4643 1203 Q57.1264 1202.26 59.4412 1201.89 Q61.7791 1201.52 63.8393 1201.52 Q69.1633 1201.52 72.2652 1203.95 Q75.367 1206.36 75.367 1210.48 Q75.367 1213.35 73.7235 1215.34 Q72.08 1217.31 69.0476 1218.07 Z\" fill=\"#000000\" fill-rule=\"evenodd\" fill-opacity=\"1\" /><path clip-path=\"url(#clip650)\" d=\"M66.5939 979.93 L54.7884 998.379 L66.5939 998.379 L66.5939 979.93 M65.367 975.856 L71.2466 975.856 L71.2466 998.379 L76.1772 998.379 L76.1772 1002.27 L71.2466 1002.27 L71.2466 1010.42 L66.5939 1010.42 L66.5939 1002.27 L50.9921 1002.27 L50.9921 997.754 L65.367 975.856 Z\" fill=\"#000000\" fill-rule=\"evenodd\" fill-opacity=\"1\" /><path clip-path=\"url(#clip650)\" d=\"M55.2745 749.566 L73.6309 749.566 L73.6309 753.501 L59.5569 753.501 L59.5569 761.973 Q60.5754 761.626 61.5939 761.464 Q62.6124 761.279 63.6309 761.279 Q69.418 761.279 72.7976 764.45 Q76.1772 767.621 76.1772 773.038 Q76.1772 778.617 72.705 781.719 Q69.2328 784.797 62.9134 784.797 Q60.7374 784.797 58.4689 784.427 Q56.2236 784.057 53.8162 783.316 L53.8162 778.617 Q55.8995 779.751 58.1217 780.307 Q60.3439 780.862 62.8208 780.862 Q66.8254 780.862 69.1633 778.756 Q71.5013 776.649 71.5013 773.038 Q71.5013 769.427 69.1633 767.321 Q66.8254 765.214 62.8208 765.214 Q60.9458 765.214 59.0708 765.631 Q57.2189 766.047 55.2745 766.927 L55.2745 749.566 Z\" fill=\"#000000\" fill-rule=\"evenodd\" fill-opacity=\"1\" /><path clip-path=\"url(#clip650)\" d=\"M64.6495 538.693 Q61.5013 538.693 59.6495 540.845 Q57.8208 542.998 57.8208 546.748 Q57.8208 550.475 59.6495 552.651 Q61.5013 554.804 64.6495 554.804 Q67.7976 554.804 69.6263 552.651 Q71.4781 550.475 71.4781 546.748 Q71.4781 542.998 69.6263 540.845 Q67.7976 538.693 64.6495 538.693 M73.9318 524.04 L73.9318 528.299 Q72.1726 527.466 70.367 527.026 Q68.5846 526.586 66.8254 526.586 Q62.1958 526.586 59.7421 529.711 Q57.3115 532.836 56.9643 539.156 Q58.33 537.142 60.3902 536.077 Q62.4504 534.989 64.9272 534.989 Q70.1355 534.989 73.1448 538.16 Q76.1772 541.308 76.1772 546.748 Q76.1772 552.072 73.029 555.29 Q69.8809 558.507 64.6495 558.507 Q58.6541 558.507 55.4828 553.924 Q52.3116 549.318 52.3116 540.591 Q52.3116 532.396 56.2004 527.535 Q60.0893 522.651 66.6402 522.651 Q68.3994 522.651 70.1818 522.998 Q71.9874 523.346 73.9318 524.04 Z\" fill=\"#000000\" fill-rule=\"evenodd\" fill-opacity=\"1\" /><path clip-path=\"url(#clip650)\" d=\"M53.9551 296.986 L76.1772 296.986 L76.1772 298.977 L63.6309 331.546 L58.7467 331.546 L70.5522 300.921 L53.9551 300.921 L53.9551 296.986 Z\" fill=\"#000000\" fill-rule=\"evenodd\" fill-opacity=\"1\" /><path clip-path=\"url(#clip650)\" d=\"M64.3254 88.8443 Q60.9921 88.8443 59.0708 90.6267 Q57.1726 92.4091 57.1726 95.5341 Q57.1726 98.6591 59.0708 100.441 Q60.9921 102.224 64.3254 102.224 Q67.6587 102.224 69.58 100.441 Q71.5013 98.6359 71.5013 95.5341 Q71.5013 92.4091 69.58 90.6267 Q67.6819 88.8443 64.3254 88.8443 M59.6495 86.8536 Q56.6402 86.1129 54.9504 84.0527 Q53.2838 81.9925 53.2838 79.0296 Q53.2838 74.8861 56.2236 72.4787 Q59.1865 70.0713 64.3254 70.0713 Q69.4874 70.0713 72.4272 72.4787 Q75.367 74.8861 75.367 79.0296 Q75.367 81.9925 73.6772 84.0527 Q72.0105 86.1129 69.0244 86.8536 Q72.404 87.6406 74.279 89.9323 Q76.1772 92.2239 76.1772 95.5341 Q76.1772 100.557 73.0985 103.242 Q70.0429 105.928 64.3254 105.928 Q58.6078 105.928 55.5291 103.242 Q52.4736 100.557 52.4736 95.5341 Q52.4736 92.2239 54.3717 89.9323 Q56.2699 87.6406 59.6495 86.8536 M57.9365 79.4694 Q57.9365 82.1545 59.6032 83.6592 Q61.293 85.1638 64.3254 85.1638 Q67.3346 85.1638 69.0244 83.6592 Q70.7374 82.1545 70.7374 79.4694 Q70.7374 76.7842 69.0244 75.2796 Q67.3346 73.775 64.3254 73.775 Q61.293 73.775 59.6032 75.2796 Q57.9365 76.7842 57.9365 79.4694 Z\" fill=\"#000000\" fill-rule=\"evenodd\" fill-opacity=\"1\" /><polyline clip-path=\"url(#clip652)\" style=\"stroke:#009af9; stroke-linecap:butt; stroke-linejoin:round; stroke-width:4; stroke-opacity:1; fill:none\" points=\"\n",
       "  175.59,1445.72 704.028,993.136 1232.47,314.266 1760.9,87.9763 2289.34,87.9763 \n",
       "  \"/>\n",
       "<path clip-path=\"url(#clip650)\" d=\"\n",
       "M1976.69 198.898 L2278.07 198.898 L2278.07 95.2176 L1976.69 95.2176  Z\n",
       "  \" fill=\"#ffffff\" fill-rule=\"evenodd\" fill-opacity=\"1\"/>\n",
       "<polyline clip-path=\"url(#clip650)\" style=\"stroke:#000000; stroke-linecap:butt; stroke-linejoin:round; stroke-width:4; stroke-opacity:1; fill:none\" points=\"\n",
       "  1976.69,198.898 2278.07,198.898 2278.07,95.2176 1976.69,95.2176 1976.69,198.898 \n",
       "  \"/>\n",
       "<polyline clip-path=\"url(#clip650)\" style=\"stroke:#009af9; stroke-linecap:butt; stroke-linejoin:round; stroke-width:4; stroke-opacity:1; fill:none\" points=\"\n",
       "  2001.58,147.058 2150.95,147.058 \n",
       "  \"/>\n",
       "<path clip-path=\"url(#clip650)\" d=\"M2189.69 166.745 Q2187.89 171.375 2186.17 172.787 Q2184.46 174.199 2181.59 174.199 L2178.19 174.199 L2178.19 170.634 L2180.69 170.634 Q2182.45 170.634 2183.42 169.8 Q2184.39 168.967 2185.57 165.865 L2186.34 163.921 L2175.85 138.412 L2180.36 138.412 L2188.46 158.689 L2196.57 138.412 L2201.08 138.412 L2189.69 166.745 Z\" fill=\"#000000\" fill-rule=\"evenodd\" fill-opacity=\"1\" /><path clip-path=\"url(#clip650)\" d=\"M2208.37 160.402 L2216.01 160.402 L2216.01 134.037 L2207.7 135.703 L2207.7 131.444 L2215.96 129.778 L2220.64 129.778 L2220.64 160.402 L2228.28 160.402 L2228.28 164.338 L2208.37 164.338 L2208.37 160.402 Z\" fill=\"#000000\" fill-rule=\"evenodd\" fill-opacity=\"1\" /></svg>\n"
      ]
     },
     "execution_count": 3,
     "metadata": {},
     "output_type": "execute_result"
    }
   ],
   "source": [
    "plot(nbits, bondims)"
   ]
  },
  {
   "cell_type": "code",
   "execution_count": 4,
   "metadata": {},
   "outputs": [
    {
     "data": {
      "text/plain": [
       "4-element Vector{Index{Int64}}:\n",
       " (dim=2|id=847|\"Qubit,Site,n=1\")\n",
       " (dim=2|id=617|\"Qubit,Site,n=2\")\n",
       " (dim=2|id=543|\"Qubit,Site,n=3\")\n",
       " (dim=2|id=720|\"Qubit,Site,n=4\")"
      ]
     },
     "execution_count": 4,
     "metadata": {},
     "output_type": "execute_result"
    }
   ],
   "source": [
    "N = 4\n",
    "sites = siteinds(\"Qubit\",N)"
   ]
  },
  {
   "cell_type": "code",
   "execution_count": 5,
   "metadata": {},
   "outputs": [
    {
     "data": {
      "text/plain": [
       "_phasegate (generic function with 1 method)"
      ]
     },
     "execution_count": 5,
     "metadata": {},
     "output_type": "execute_result"
    }
   ],
   "source": [
    "_delta(i, j) = Int(i == j)\n",
    "\n",
    "# Note: NOT type stable\n",
    "function _phasegate(nphase::Int, position)\n",
    "    ϕ = π * 0.5^(nphase-1)\n",
    "    _exp(x, k) = exp(-im * ϕ * (x-1) * (k-1))\n",
    "    if position == :center\n",
    "        arr = zeros(ComplexF64, 2, 2, 2, 2)\n",
    "        for x in 1:2, k in 1:2\n",
    "            arr[k,x,x,k] = _exp(x, k)\n",
    "        end\n",
    "        return arr\n",
    "    elseif position == :left\n",
    "        arr = zeros(ComplexF64, 2, 2, 2)\n",
    "        for x in 1:2, k in 1:2\n",
    "            arr[x,k,k] = _exp(x, k)\n",
    "        end\n",
    "        return arr\n",
    "    elseif position == :right\n",
    "        arr = zeros(ComplexF64, 2, 2, 2)\n",
    "        for x in 1:2, k in 1:2\n",
    "            arr[k,x,k] = _exp(x, k)\n",
    "        end\n",
    "        return arr\n",
    "    elseif position == :only\n",
    "        arr = zeros(ComplexF64, 1, 2, 2)\n",
    "        for x in 1:2, k in 1:2\n",
    "            arr[1,x,k] = _exp(x, k)\n",
    "        end\n",
    "        return arr\n",
    "    else\n",
    "        error(\"Invalid position\")\n",
    "    end\n",
    "end"
   ]
  },
  {
   "cell_type": "code",
   "execution_count": 6,
   "metadata": {},
   "outputs": [
    {
     "data": {
      "text/plain": [
       "_identitygate (generic function with 1 method)"
      ]
     },
     "execution_count": 6,
     "metadata": {},
     "output_type": "execute_result"
    }
   ],
   "source": [
    "# Note: NOT type stable\n",
    "function _identitygate(position)\n",
    "    arr = Matrix{ComplexF64}(I, 2, 2)\n",
    "    if position == :center\n",
    "        return reshape(arr, (1,2,2,1))\n",
    "    elseif position == :left\n",
    "        return reshape(arr, (2,2,1))\n",
    "    else\n",
    "        error(\"Invalid position\")\n",
    "    end\n",
    "end"
   ]
  },
  {
   "cell_type": "code",
   "execution_count": 7,
   "metadata": {},
   "outputs": [
    {
     "data": {
      "text/plain": [
       "_phasegates (generic function with 1 method)"
      ]
     },
     "execution_count": 7,
     "metadata": {},
     "output_type": "execute_result"
    }
   ],
   "source": [
    "function _assign!(M::MPO, n::Int, arr; autoreshape=false)\n",
    "    if autoreshape\n",
    "        arr = reshape(arr, map(dim, inds(M[n]))...)\n",
    "    end\n",
    "    M[n] = ITensor(arr, inds(M[n])...)\n",
    "    return nothing\n",
    "end\n",
    "\n",
    "function _phasegates(sites, ntargetbits)\n",
    "    N = length(sites)\n",
    "    offset = length(sites) - ntargetbits\n",
    "    M = MultiScales._zero_mpo(sites; linkdims=vcat(ones(Int,offset), fill(2,N-1-offset)))\n",
    "\n",
    "    # I gate\n",
    "    for n in 1:offset\n",
    "        pos = (n == 1) ? :left : :center\n",
    "        _assign!(M, n, _identitygate(pos))\n",
    "    end\n",
    "\n",
    "    # Phase gates\n",
    "    if ntargetbits == 1\n",
    "        _assign!(M, 1 + offset, _phasegate(1, :only))\n",
    "    else\n",
    "        _assign!(M, 1 + offset, _phasegate(1, :left))\n",
    "        for i in 2:(ntargetbits-1)\n",
    "            _assign!(M, i + offset, _phasegate(i, :center))\n",
    "        end\n",
    "        _assign!(M, ntargetbits + offset, _phasegate(ntargetbits, :right))\n",
    "    end\n",
    "    return M\n",
    "end"
   ]
  },
  {
   "cell_type": "code",
   "execution_count": 12,
   "metadata": {},
   "outputs": [
    {
     "data": {
      "text/plain": [
       "MPO\n",
       "[1] ((dim=2|id=89|\"Qubit,Site,n=1\")', (dim=2|id=89|\"Qubit,Site,n=1\"), (dim=2|id=483|\"Link,n=1\"))\n",
       "[2] ((dim=2|id=435|\"Qubit,Site,n=2\")', (dim=2|id=435|\"Qubit,Site,n=2\"), (dim=4|id=239|\"Link,n=2\"), (dim=2|id=483|\"Link,n=1\"))\n",
       "[3] ((dim=2|id=223|\"Qubit,Site,n=3\")', (dim=2|id=223|\"Qubit,Site,n=3\"), (dim=4|id=926|\"Link,n=3\"), (dim=4|id=239|\"Link,n=2\"))\n",
       "[4] ((dim=2|id=660|\"Qubit,Site,n=4\")', (dim=2|id=660|\"Qubit,Site,n=4\"), (dim=4|id=926|\"Link,n=3\"))\n"
      ]
     },
     "execution_count": 12,
     "metadata": {},
     "output_type": "execute_result"
    }
   ],
   "source": [
    "function _qft(sites; kwargs...)\n",
    "    M = _phasegates(sites, 1)\n",
    "    for layer in 2:length(sites)\n",
    "        M = apply(_phasegates(sites, layer), M; kwargs...)\n",
    "    end\n",
    "    return M\n",
    "end\n",
    "_qft(sites)"
   ]
  },
  {
   "cell_type": "code",
   "execution_count": 22,
   "metadata": {},
   "outputs": [
    {
     "data": {
      "text/plain": [
       "5-element Vector{Int64}:\n",
       "  4\n",
       " 16\n",
       " 28\n",
       " 26\n",
       " 24"
      ]
     },
     "execution_count": 22,
     "metadata": {},
     "output_type": "execute_result"
    }
   ],
   "source": [
    "Ns = [4, 8, 12, 16, 20]\n",
    "_maxlinkdim(M) = maximum(maximum(map(dim, inds(m; tags=\"Link\"))) for m in M)\n",
    "bonddims = Int[]\n",
    "cutoff = 1e-20\n",
    "for N in Ns\n",
    "    sites = siteinds(\"Qubit\", N)\n",
    "    M = _qft(sites; cutoff=1e-30)\n",
    "    truncate!(M; cutoff=cutoff)\n",
    "    push!(bonddims, _maxlinkdim(M))\n",
    "end\n",
    "bonddims"
   ]
  },
  {
   "cell_type": "code",
   "execution_count": 23,
   "metadata": {},
   "outputs": [
    {
     "data": {
      "image/svg+xml": [
       "<?xml version=\"1.0\" encoding=\"utf-8\"?>\n",
       "<svg xmlns=\"http://www.w3.org/2000/svg\" xmlns:xlink=\"http://www.w3.org/1999/xlink\" width=\"600\" height=\"400\" viewBox=\"0 0 2400 1600\">\n",
       "<defs>\n",
       "  <clipPath id=\"clip810\">\n",
       "    <rect x=\"0\" y=\"0\" width=\"2400\" height=\"1600\"/>\n",
       "  </clipPath>\n",
       "</defs>\n",
       "<path clip-path=\"url(#clip810)\" d=\"\n",
       "M0 1600 L2400 1600 L2400 0 L0 0  Z\n",
       "  \" fill=\"#ffffff\" fill-rule=\"evenodd\" fill-opacity=\"1\"/>\n",
       "<defs>\n",
       "  <clipPath id=\"clip811\">\n",
       "    <rect x=\"480\" y=\"0\" width=\"1681\" height=\"1600\"/>\n",
       "  </clipPath>\n",
       "</defs>\n",
       "<path clip-path=\"url(#clip810)\" d=\"\n",
       "M140.696 1486.45 L2352.76 1486.45 L2352.76 47.2441 L140.696 47.2441  Z\n",
       "  \" fill=\"#ffffff\" fill-rule=\"evenodd\" fill-opacity=\"1\"/>\n",
       "<defs>\n",
       "  <clipPath id=\"clip812\">\n",
       "    <rect x=\"140\" y=\"47\" width=\"2213\" height=\"1440\"/>\n",
       "  </clipPath>\n",
       "</defs>\n",
       "<polyline clip-path=\"url(#clip812)\" style=\"stroke:#000000; stroke-linecap:butt; stroke-linejoin:round; stroke-width:2; stroke-opacity:0.1; fill:none\" points=\"\n",
       "  464.157,1486.45 464.157,47.2441 \n",
       "  \"/>\n",
       "<polyline clip-path=\"url(#clip812)\" style=\"stroke:#000000; stroke-linecap:butt; stroke-linejoin:round; stroke-width:2; stroke-opacity:0.1; fill:none\" points=\"\n",
       "  855.441,1486.45 855.441,47.2441 \n",
       "  \"/>\n",
       "<polyline clip-path=\"url(#clip812)\" style=\"stroke:#000000; stroke-linecap:butt; stroke-linejoin:round; stroke-width:2; stroke-opacity:0.1; fill:none\" points=\"\n",
       "  1246.73,1486.45 1246.73,47.2441 \n",
       "  \"/>\n",
       "<polyline clip-path=\"url(#clip812)\" style=\"stroke:#000000; stroke-linecap:butt; stroke-linejoin:round; stroke-width:2; stroke-opacity:0.1; fill:none\" points=\"\n",
       "  1638.01,1486.45 1638.01,47.2441 \n",
       "  \"/>\n",
       "<polyline clip-path=\"url(#clip812)\" style=\"stroke:#000000; stroke-linecap:butt; stroke-linejoin:round; stroke-width:2; stroke-opacity:0.1; fill:none\" points=\"\n",
       "  2029.29,1486.45 2029.29,47.2441 \n",
       "  \"/>\n",
       "<polyline clip-path=\"url(#clip810)\" style=\"stroke:#000000; stroke-linecap:butt; stroke-linejoin:round; stroke-width:4; stroke-opacity:1; fill:none\" points=\"\n",
       "  140.696,1486.45 2352.76,1486.45 \n",
       "  \"/>\n",
       "<polyline clip-path=\"url(#clip810)\" style=\"stroke:#000000; stroke-linecap:butt; stroke-linejoin:round; stroke-width:4; stroke-opacity:1; fill:none\" points=\"\n",
       "  464.157,1486.45 464.157,1467.55 \n",
       "  \"/>\n",
       "<polyline clip-path=\"url(#clip810)\" style=\"stroke:#000000; stroke-linecap:butt; stroke-linejoin:round; stroke-width:4; stroke-opacity:1; fill:none\" points=\"\n",
       "  855.441,1486.45 855.441,1467.55 \n",
       "  \"/>\n",
       "<polyline clip-path=\"url(#clip810)\" style=\"stroke:#000000; stroke-linecap:butt; stroke-linejoin:round; stroke-width:4; stroke-opacity:1; fill:none\" points=\"\n",
       "  1246.73,1486.45 1246.73,1467.55 \n",
       "  \"/>\n",
       "<polyline clip-path=\"url(#clip810)\" style=\"stroke:#000000; stroke-linecap:butt; stroke-linejoin:round; stroke-width:4; stroke-opacity:1; fill:none\" points=\"\n",
       "  1638.01,1486.45 1638.01,1467.55 \n",
       "  \"/>\n",
       "<polyline clip-path=\"url(#clip810)\" style=\"stroke:#000000; stroke-linecap:butt; stroke-linejoin:round; stroke-width:4; stroke-opacity:1; fill:none\" points=\"\n",
       "  2029.29,1486.45 2029.29,1467.55 \n",
       "  \"/>\n",
       "<path clip-path=\"url(#clip810)\" d=\"M464.562 1529.7 Q461.414 1529.7 459.562 1531.86 Q457.734 1534.01 457.734 1537.76 Q457.734 1541.49 459.562 1543.66 Q461.414 1545.82 464.562 1545.82 Q467.71 1545.82 469.539 1543.66 Q471.391 1541.49 471.391 1537.76 Q471.391 1534.01 469.539 1531.86 Q467.71 1529.7 464.562 1529.7 M473.845 1515.05 L473.845 1519.31 Q472.085 1518.48 470.28 1518.04 Q468.497 1517.6 466.738 1517.6 Q462.109 1517.6 459.655 1520.72 Q457.224 1523.85 456.877 1530.17 Q458.243 1528.15 460.303 1527.09 Q462.363 1526 464.84 1526 Q470.048 1526 473.058 1529.17 Q476.09 1532.32 476.09 1537.76 Q476.09 1543.08 472.942 1546.3 Q469.794 1549.52 464.562 1549.52 Q458.567 1549.52 455.396 1544.94 Q452.224 1540.33 452.224 1531.6 Q452.224 1523.41 456.113 1518.55 Q460.002 1513.66 466.553 1513.66 Q468.312 1513.66 470.095 1514.01 Q471.9 1514.36 473.845 1515.05 Z\" fill=\"#000000\" fill-rule=\"evenodd\" fill-opacity=\"1\" /><path clip-path=\"url(#clip810)\" d=\"M845.742 1548.13 L845.742 1543.87 Q847.502 1544.7 849.307 1545.14 Q851.113 1545.58 852.849 1545.58 Q857.478 1545.58 859.909 1542.48 Q862.363 1539.36 862.71 1533.01 Q861.367 1535.01 859.307 1536.07 Q857.247 1537.13 854.747 1537.13 Q849.562 1537.13 846.529 1534.01 Q843.52 1530.86 843.52 1525.42 Q843.52 1520.1 846.668 1516.88 Q849.816 1513.66 855.048 1513.66 Q861.043 1513.66 864.191 1518.27 Q867.363 1522.85 867.363 1531.6 Q867.363 1539.77 863.474 1544.66 Q859.608 1549.52 853.057 1549.52 Q851.298 1549.52 849.492 1549.17 Q847.687 1548.82 845.742 1548.13 M855.048 1533.48 Q858.196 1533.48 860.025 1531.32 Q861.877 1529.17 861.877 1525.42 Q861.877 1521.7 860.025 1519.54 Q858.196 1517.37 855.048 1517.37 Q851.9 1517.37 850.048 1519.54 Q848.219 1521.7 848.219 1525.42 Q848.219 1529.17 850.048 1531.32 Q851.9 1533.48 855.048 1533.48 Z\" fill=\"#000000\" fill-rule=\"evenodd\" fill-opacity=\"1\" /><path clip-path=\"url(#clip810)\" d=\"M1222.21 1544.91 L1229.85 1544.91 L1229.85 1518.55 L1221.54 1520.21 L1221.54 1515.95 L1229.8 1514.29 L1234.48 1514.29 L1234.48 1544.91 L1242.12 1544.91 L1242.12 1548.85 L1222.21 1548.85 L1222.21 1544.91 Z\" fill=\"#000000\" fill-rule=\"evenodd\" fill-opacity=\"1\" /><path clip-path=\"url(#clip810)\" d=\"M1255.59 1544.91 L1271.91 1544.91 L1271.91 1548.85 L1249.97 1548.85 L1249.97 1544.91 Q1252.63 1542.16 1257.21 1537.53 Q1261.82 1532.88 1263 1531.53 Q1265.24 1529.01 1266.12 1527.27 Q1267.03 1525.51 1267.03 1523.82 Q1267.03 1521.07 1265.08 1519.33 Q1263.16 1517.6 1260.06 1517.6 Q1257.86 1517.6 1255.41 1518.36 Q1252.98 1519.13 1250.2 1520.68 L1250.2 1515.95 Q1253.02 1514.82 1255.48 1514.24 Q1257.93 1513.66 1259.97 1513.66 Q1265.34 1513.66 1268.53 1516.35 Q1271.73 1519.03 1271.73 1523.52 Q1271.73 1525.65 1270.92 1527.57 Q1270.13 1529.47 1268.02 1532.07 Q1267.44 1532.74 1264.34 1535.95 Q1261.24 1539.15 1255.59 1544.91 Z\" fill=\"#000000\" fill-rule=\"evenodd\" fill-opacity=\"1\" /><path clip-path=\"url(#clip810)\" d=\"M1613.2 1544.91 L1620.83 1544.91 L1620.83 1518.55 L1612.52 1520.21 L1612.52 1515.95 L1620.79 1514.29 L1625.46 1514.29 L1625.46 1544.91 L1633.1 1544.91 L1633.1 1548.85 L1613.2 1548.85 L1613.2 1544.91 Z\" fill=\"#000000\" fill-rule=\"evenodd\" fill-opacity=\"1\" /><path clip-path=\"url(#clip810)\" d=\"M1642.59 1514.29 L1660.95 1514.29 L1660.95 1518.22 L1646.88 1518.22 L1646.88 1526.7 Q1647.89 1526.35 1648.91 1526.19 Q1649.93 1526 1650.95 1526 Q1656.74 1526 1660.12 1529.17 Q1663.5 1532.34 1663.5 1537.76 Q1663.5 1543.34 1660.02 1546.44 Q1656.55 1549.52 1650.23 1549.52 Q1648.06 1549.52 1645.79 1549.15 Q1643.54 1548.78 1641.13 1548.04 L1641.13 1543.34 Q1643.22 1544.47 1645.44 1545.03 Q1647.66 1545.58 1650.14 1545.58 Q1654.14 1545.58 1656.48 1543.48 Q1658.82 1541.37 1658.82 1537.76 Q1658.82 1534.15 1656.48 1532.04 Q1654.14 1529.94 1650.14 1529.94 Q1648.26 1529.94 1646.39 1530.35 Q1644.54 1530.77 1642.59 1531.65 L1642.59 1514.29 Z\" fill=\"#000000\" fill-rule=\"evenodd\" fill-opacity=\"1\" /><path clip-path=\"url(#clip810)\" d=\"M2004.03 1544.91 L2011.67 1544.91 L2011.67 1518.55 L2003.36 1520.21 L2003.36 1515.95 L2011.62 1514.29 L2016.3 1514.29 L2016.3 1544.91 L2023.94 1544.91 L2023.94 1548.85 L2004.03 1548.85 L2004.03 1544.91 Z\" fill=\"#000000\" fill-rule=\"evenodd\" fill-opacity=\"1\" /><path clip-path=\"url(#clip810)\" d=\"M2043.38 1532.44 Q2040.05 1532.44 2038.13 1534.22 Q2036.23 1536 2036.23 1539.13 Q2036.23 1542.25 2038.13 1544.03 Q2040.05 1545.82 2043.38 1545.82 Q2046.71 1545.82 2048.63 1544.03 Q2050.56 1542.23 2050.56 1539.13 Q2050.56 1536 2048.63 1534.22 Q2046.74 1532.44 2043.38 1532.44 M2038.7 1530.45 Q2035.69 1529.7 2034 1527.64 Q2032.34 1525.58 2032.34 1522.62 Q2032.34 1518.48 2035.28 1516.07 Q2038.24 1513.66 2043.38 1513.66 Q2048.54 1513.66 2051.48 1516.07 Q2054.42 1518.48 2054.42 1522.62 Q2054.42 1525.58 2052.73 1527.64 Q2051.06 1529.7 2048.08 1530.45 Q2051.46 1531.23 2053.33 1533.52 Q2055.23 1535.82 2055.23 1539.13 Q2055.23 1544.15 2052.15 1546.83 Q2049.1 1549.52 2043.38 1549.52 Q2037.66 1549.52 2034.58 1546.83 Q2031.53 1544.15 2031.53 1539.13 Q2031.53 1535.82 2033.43 1533.52 Q2035.32 1531.23 2038.7 1530.45 M2036.99 1523.06 Q2036.99 1525.75 2038.66 1527.25 Q2040.35 1528.76 2043.38 1528.76 Q2046.39 1528.76 2048.08 1527.25 Q2049.79 1525.75 2049.79 1523.06 Q2049.79 1520.38 2048.08 1518.87 Q2046.39 1517.37 2043.38 1517.37 Q2040.35 1517.37 2038.66 1518.87 Q2036.99 1520.38 2036.99 1523.06 Z\" fill=\"#000000\" fill-rule=\"evenodd\" fill-opacity=\"1\" /><polyline clip-path=\"url(#clip812)\" style=\"stroke:#000000; stroke-linecap:butt; stroke-linejoin:round; stroke-width:2; stroke-opacity:0.1; fill:none\" points=\"\n",
       "  140.696,1389.14 2352.76,1389.14 \n",
       "  \"/>\n",
       "<polyline clip-path=\"url(#clip812)\" style=\"stroke:#000000; stroke-linecap:butt; stroke-linejoin:round; stroke-width:2; stroke-opacity:0.1; fill:none\" points=\"\n",
       "  140.696,1106.28 2352.76,1106.28 \n",
       "  \"/>\n",
       "<polyline clip-path=\"url(#clip812)\" style=\"stroke:#000000; stroke-linecap:butt; stroke-linejoin:round; stroke-width:2; stroke-opacity:0.1; fill:none\" points=\"\n",
       "  140.696,823.418 2352.76,823.418 \n",
       "  \"/>\n",
       "<polyline clip-path=\"url(#clip812)\" style=\"stroke:#000000; stroke-linecap:butt; stroke-linejoin:round; stroke-width:2; stroke-opacity:0.1; fill:none\" points=\"\n",
       "  140.696,540.556 2352.76,540.556 \n",
       "  \"/>\n",
       "<polyline clip-path=\"url(#clip812)\" style=\"stroke:#000000; stroke-linecap:butt; stroke-linejoin:round; stroke-width:2; stroke-opacity:0.1; fill:none\" points=\"\n",
       "  140.696,257.694 2352.76,257.694 \n",
       "  \"/>\n",
       "<polyline clip-path=\"url(#clip810)\" style=\"stroke:#000000; stroke-linecap:butt; stroke-linejoin:round; stroke-width:4; stroke-opacity:1; fill:none\" points=\"\n",
       "  140.696,1486.45 140.696,47.2441 \n",
       "  \"/>\n",
       "<polyline clip-path=\"url(#clip810)\" style=\"stroke:#000000; stroke-linecap:butt; stroke-linejoin:round; stroke-width:4; stroke-opacity:1; fill:none\" points=\"\n",
       "  140.696,1389.14 159.593,1389.14 \n",
       "  \"/>\n",
       "<polyline clip-path=\"url(#clip810)\" style=\"stroke:#000000; stroke-linecap:butt; stroke-linejoin:round; stroke-width:4; stroke-opacity:1; fill:none\" points=\"\n",
       "  140.696,1106.28 159.593,1106.28 \n",
       "  \"/>\n",
       "<polyline clip-path=\"url(#clip810)\" style=\"stroke:#000000; stroke-linecap:butt; stroke-linejoin:round; stroke-width:4; stroke-opacity:1; fill:none\" points=\"\n",
       "  140.696,823.418 159.593,823.418 \n",
       "  \"/>\n",
       "<polyline clip-path=\"url(#clip810)\" style=\"stroke:#000000; stroke-linecap:butt; stroke-linejoin:round; stroke-width:4; stroke-opacity:1; fill:none\" points=\"\n",
       "  140.696,540.556 159.593,540.556 \n",
       "  \"/>\n",
       "<polyline clip-path=\"url(#clip810)\" style=\"stroke:#000000; stroke-linecap:butt; stroke-linejoin:round; stroke-width:4; stroke-opacity:1; fill:none\" points=\"\n",
       "  140.696,257.694 159.593,257.694 \n",
       "  \"/>\n",
       "<path clip-path=\"url(#clip810)\" d=\"M83.7929 1371.86 L102.149 1371.86 L102.149 1375.8 L88.0753 1375.8 L88.0753 1384.27 Q89.0938 1383.92 90.1123 1383.76 Q91.1308 1383.58 92.1493 1383.58 Q97.9363 1383.58 101.316 1386.75 Q104.696 1389.92 104.696 1395.34 Q104.696 1400.91 101.223 1404.02 Q97.7511 1407.09 91.4317 1407.09 Q89.2558 1407.09 86.9873 1406.72 Q84.7419 1406.35 82.3346 1405.61 L82.3346 1400.91 Q84.4179 1402.05 86.6401 1402.6 Q88.8623 1403.16 91.3391 1403.16 Q95.3437 1403.16 97.6817 1401.05 Q100.02 1398.95 100.02 1395.34 Q100.02 1391.72 97.6817 1389.62 Q95.3437 1387.51 91.3391 1387.51 Q89.4641 1387.51 87.5892 1387.93 Q85.7373 1388.34 83.7929 1389.22 L83.7929 1371.86 Z\" fill=\"#000000\" fill-rule=\"evenodd\" fill-opacity=\"1\" /><path clip-path=\"url(#clip810)\" d=\"M53.3995 1119.63 L61.0384 1119.63 L61.0384 1093.26 L52.7282 1094.93 L52.7282 1090.67 L60.9921 1089 L65.668 1089 L65.668 1119.63 L73.3068 1119.63 L73.3068 1123.56 L53.3995 1123.56 L53.3995 1119.63 Z\" fill=\"#000000\" fill-rule=\"evenodd\" fill-opacity=\"1\" /><path clip-path=\"url(#clip810)\" d=\"M92.7512 1092.08 Q89.1401 1092.08 87.3114 1095.64 Q85.5058 1099.19 85.5058 1106.32 Q85.5058 1113.42 87.3114 1116.99 Q89.1401 1120.53 92.7512 1120.53 Q96.3854 1120.53 98.1909 1116.99 Q100.02 1113.42 100.02 1106.32 Q100.02 1099.19 98.1909 1095.64 Q96.3854 1092.08 92.7512 1092.08 M92.7512 1088.38 Q98.5613 1088.38 101.617 1092.98 Q104.696 1097.57 104.696 1106.32 Q104.696 1115.04 101.617 1119.65 Q98.5613 1124.23 92.7512 1124.23 Q86.941 1124.23 83.8623 1119.65 Q80.8068 1115.04 80.8068 1106.32 Q80.8068 1097.57 83.8623 1092.98 Q86.941 1088.38 92.7512 1088.38 Z\" fill=\"#000000\" fill-rule=\"evenodd\" fill-opacity=\"1\" /><path clip-path=\"url(#clip810)\" d=\"M54.3949 836.763 L62.0337 836.763 L62.0337 810.398 L53.7236 812.064 L53.7236 807.805 L61.9874 806.138 L66.6633 806.138 L66.6633 836.763 L74.3022 836.763 L74.3022 840.698 L54.3949 840.698 L54.3949 836.763 Z\" fill=\"#000000\" fill-rule=\"evenodd\" fill-opacity=\"1\" /><path clip-path=\"url(#clip810)\" d=\"M83.7929 806.138 L102.149 806.138 L102.149 810.074 L88.0753 810.074 L88.0753 818.546 Q89.0938 818.199 90.1123 818.037 Q91.1308 817.851 92.1493 817.851 Q97.9363 817.851 101.316 821.023 Q104.696 824.194 104.696 829.611 Q104.696 835.189 101.223 838.291 Q97.7511 841.37 91.4317 841.37 Q89.2558 841.37 86.9873 840.999 Q84.7419 840.629 82.3346 839.888 L82.3346 835.189 Q84.4179 836.323 86.6401 836.879 Q88.8623 837.435 91.3391 837.435 Q95.3437 837.435 97.6817 835.328 Q100.02 833.222 100.02 829.611 Q100.02 825.999 97.6817 823.893 Q95.3437 821.787 91.3391 821.787 Q89.4641 821.787 87.5892 822.203 Q85.7373 822.62 83.7929 823.499 L83.7929 806.138 Z\" fill=\"#000000\" fill-rule=\"evenodd\" fill-opacity=\"1\" /><path clip-path=\"url(#clip810)\" d=\"M56.6171 553.901 L72.9365 553.901 L72.9365 557.836 L50.9921 557.836 L50.9921 553.901 Q53.6541 551.146 58.2375 546.517 Q62.8439 541.864 64.0245 540.521 Q66.2698 537.998 67.1494 536.262 Q68.0522 534.503 68.0522 532.813 Q68.0522 530.058 66.1078 528.322 Q64.1865 526.586 61.0847 526.586 Q58.8856 526.586 56.4319 527.35 Q54.0014 528.114 51.2236 529.665 L51.2236 524.943 Q54.0477 523.808 56.5014 523.23 Q58.955 522.651 60.9921 522.651 Q66.3624 522.651 69.5568 525.336 Q72.7513 528.021 72.7513 532.512 Q72.7513 534.642 71.9411 536.563 Q71.1541 538.461 69.0476 541.054 Q68.4689 541.725 65.367 544.943 Q62.2652 548.137 56.6171 553.901 Z\" fill=\"#000000\" fill-rule=\"evenodd\" fill-opacity=\"1\" /><path clip-path=\"url(#clip810)\" d=\"M92.7512 526.355 Q89.1401 526.355 87.3114 529.92 Q85.5058 533.461 85.5058 540.591 Q85.5058 547.697 87.3114 551.262 Q89.1401 554.804 92.7512 554.804 Q96.3854 554.804 98.1909 551.262 Q100.02 547.697 100.02 540.591 Q100.02 533.461 98.1909 529.92 Q96.3854 526.355 92.7512 526.355 M92.7512 522.651 Q98.5613 522.651 101.617 527.258 Q104.696 531.841 104.696 540.591 Q104.696 549.318 101.617 553.924 Q98.5613 558.507 92.7512 558.507 Q86.941 558.507 83.8623 553.924 Q80.8068 549.318 80.8068 540.591 Q80.8068 531.841 83.8623 527.258 Q86.941 522.651 92.7512 522.651 Z\" fill=\"#000000\" fill-rule=\"evenodd\" fill-opacity=\"1\" /><path clip-path=\"url(#clip810)\" d=\"M57.6125 271.039 L73.9318 271.039 L73.9318 274.974 L51.9875 274.974 L51.9875 271.039 Q54.6495 268.284 59.2328 263.654 Q63.8393 259.002 65.0198 257.659 Q67.2652 255.136 68.1448 253.4 Q69.0476 251.64 69.0476 249.951 Q69.0476 247.196 67.1032 245.46 Q65.1819 243.724 62.08 243.724 Q59.881 243.724 57.4273 244.488 Q54.9967 245.252 52.219 246.803 L52.219 242.08 Q55.043 240.946 57.4967 240.367 Q59.9504 239.789 61.9874 239.789 Q67.3578 239.789 70.5522 242.474 Q73.7466 245.159 73.7466 249.65 Q73.7466 251.779 72.9365 253.701 Q72.1494 255.599 70.0429 258.191 Q69.4642 258.863 66.3624 262.08 Q63.2606 265.275 57.6125 271.039 Z\" fill=\"#000000\" fill-rule=\"evenodd\" fill-opacity=\"1\" /><path clip-path=\"url(#clip810)\" d=\"M83.7929 240.414 L102.149 240.414 L102.149 244.349 L88.0753 244.349 L88.0753 252.821 Q89.0938 252.474 90.1123 252.312 Q91.1308 252.127 92.1493 252.127 Q97.9363 252.127 101.316 255.298 Q104.696 258.469 104.696 263.886 Q104.696 269.464 101.223 272.566 Q97.7511 275.645 91.4317 275.645 Q89.2558 275.645 86.9873 275.275 Q84.7419 274.904 82.3346 274.164 L82.3346 269.464 Q84.4179 270.599 86.6401 271.154 Q88.8623 271.71 91.3391 271.71 Q95.3437 271.71 97.6817 269.603 Q100.02 267.497 100.02 263.886 Q100.02 260.275 97.6817 258.168 Q95.3437 256.062 91.3391 256.062 Q89.4641 256.062 87.5892 256.478 Q85.7373 256.895 83.7929 257.775 L83.7929 240.414 Z\" fill=\"#000000\" fill-rule=\"evenodd\" fill-opacity=\"1\" /><polyline clip-path=\"url(#clip812)\" style=\"stroke:#009af9; stroke-linecap:butt; stroke-linejoin:round; stroke-width:4; stroke-opacity:1; fill:none\" points=\"\n",
       "  203.301,1445.72 725.013,766.846 1246.73,87.9763 1768.44,201.121 2290.15,314.266 \n",
       "  \"/>\n",
       "<path clip-path=\"url(#clip810)\" d=\"\n",
       "M1980.81 198.898 L2279.02 198.898 L2279.02 95.2176 L1980.81 95.2176  Z\n",
       "  \" fill=\"#ffffff\" fill-rule=\"evenodd\" fill-opacity=\"1\"/>\n",
       "<polyline clip-path=\"url(#clip810)\" style=\"stroke:#000000; stroke-linecap:butt; stroke-linejoin:round; stroke-width:4; stroke-opacity:1; fill:none\" points=\"\n",
       "  1980.81,198.898 2279.02,198.898 2279.02,95.2176 1980.81,95.2176 1980.81,198.898 \n",
       "  \"/>\n",
       "<polyline clip-path=\"url(#clip810)\" style=\"stroke:#009af9; stroke-linecap:butt; stroke-linejoin:round; stroke-width:4; stroke-opacity:1; fill:none\" points=\"\n",
       "  2005.38,147.058 2152.85,147.058 \n",
       "  \"/>\n",
       "<path clip-path=\"url(#clip810)\" d=\"M2191.28 166.745 Q2189.47 171.375 2187.76 172.787 Q2186.04 174.199 2183.17 174.199 L2179.77 174.199 L2179.77 170.634 L2182.27 170.634 Q2184.03 170.634 2185 169.8 Q2185.98 168.967 2187.16 165.865 L2187.92 163.921 L2177.43 138.412 L2181.95 138.412 L2190.05 158.689 L2198.15 138.412 L2202.66 138.412 L2191.28 166.745 Z\" fill=\"#000000\" fill-rule=\"evenodd\" fill-opacity=\"1\" /><path clip-path=\"url(#clip810)\" d=\"M2209.96 160.402 L2217.6 160.402 L2217.6 134.037 L2209.29 135.703 L2209.29 131.444 L2217.55 129.778 L2222.22 129.778 L2222.22 160.402 L2229.86 160.402 L2229.86 164.338 L2209.96 164.338 L2209.96 160.402 Z\" fill=\"#000000\" fill-rule=\"evenodd\" fill-opacity=\"1\" /></svg>\n"
      ]
     },
     "execution_count": 23,
     "metadata": {},
     "output_type": "execute_result"
    }
   ],
   "source": [
    "plot(Ns, bonddims)"
   ]
  },
  {
   "cell_type": "code",
   "execution_count": null,
   "metadata": {},
   "outputs": [],
   "source": []
  }
 ],
 "metadata": {
  "kernelspec": {
   "display_name": "Julia 1.7.2",
   "language": "julia",
   "name": "julia-1.7"
  },
  "language_info": {
   "file_extension": ".jl",
   "mimetype": "application/julia",
   "name": "julia",
   "version": "1.7.2"
  },
  "vscode": {
   "interpreter": {
    "hash": "31f2aee4e71d21fbe5cf8b01ff0e069b9275f58929596ceb00d14d90e3e16cd6"
   }
  }
 },
 "nbformat": 4,
 "nbformat_minor": 4
}
