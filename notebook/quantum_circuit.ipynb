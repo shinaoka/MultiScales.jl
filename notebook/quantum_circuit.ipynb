{
 "cells": [
  {
   "cell_type": "code",
   "execution_count": 1,
   "metadata": {},
   "outputs": [
    {
     "name": "stderr",
     "output_type": "stream",
     "text": [
      "┌ Info: Precompiling ITensors [9136182c-28ba-11e9-034c-db9fb085ebd5]\n",
      "└ @ Base loading.jl:1662\n"
     ]
    }
   ],
   "source": [
    "using ITensors"
   ]
  },
  {
   "cell_type": "code",
   "execution_count": 2,
   "metadata": {},
   "outputs": [
    {
     "data": {
      "text/plain": [
       "synthesize"
      ]
     },
     "execution_count": 2,
     "metadata": {},
     "output_type": "execute_result"
    }
   ],
   "source": [
    "\"\"\"\n",
    "Synthesize two MPO as M2 * M1.\n",
    "When using the synthesized MPO, M1 will be applied to a MPS first, then M2.\n",
    "\"\"\"\n",
    "function synthesize(M1::MPO, M2::MPO)\n",
    "    M21 = contract(prime(M2), M1)\n",
    "    prime(M21, -1, plev=2)\n",
    "end"
   ]
  },
  {
   "cell_type": "code",
   "execution_count": 3,
   "metadata": {},
   "outputs": [
    {
     "data": {
      "text/plain": [
       "2-element Vector{Index{Int64}}:\n",
       " (dim=2|id=360|\"Qubit,Site,n=1\")\n",
       " (dim=2|id=894|\"Qubit,Site,n=2\")"
      ]
     },
     "execution_count": 3,
     "metadata": {},
     "output_type": "execute_result"
    }
   ],
   "source": [
    "# Use two qubits\n",
    "nqubit = 2\n",
    "\n",
    "# Create site indices\n",
    "sites = siteinds(\"Qubit\", nqubit)"
   ]
  },
  {
   "cell_type": "code",
   "execution_count": 4,
   "metadata": {},
   "outputs": [
    {
     "name": "stdout",
     "output_type": "stream",
     "text": [
      "layer1[1] = ITensor ord=3\n",
      "Dim 1: (dim=2|id=360|\"Qubit,Site,n=1\")'\n",
      "Dim 2: (dim=2|id=360|\"Qubit,Site,n=1\")\n",
      "Dim 3: (dim=1|id=896|\"Link,l=1\")\n",
      "NDTensors.Dense{Float64, Vector{Float64}}\n",
      " 2×2×1\n",
      "[:, :, 1] =\n",
      " -0.7071067811865476  -0.7071067811865475\n",
      " -0.7071067811865475   0.7071067811865475\n",
      "layer1[2] = ITensor ord=3\n",
      "Dim 1: (dim=2|id=894|\"Qubit,Site,n=2\")'\n",
      "Dim 2: (dim=2|id=894|\"Qubit,Site,n=2\")\n",
      "Dim 3: (dim=1|id=896|\"Link,l=1\")\n",
      "NDTensors.Dense{Float64, Vector{Float64}}\n",
      " 2×2×1\n",
      "[:, :, 1] =\n",
      " -1.0000000000000002   0.0\n",
      "  0.0                 -1.0000000000000002\n"
     ]
    }
   ],
   "source": [
    "# Hadamard gate at qubit1, identity gate at qubit 2\n",
    "# (dim=2|id=666|\"Qubit,Site,n=1\")が状態に作用して、(dim=2|id=666|\"Qubit,Site,n=1\")'が出力\n",
    "layer1 = MPO(sites, [\"H\", \"I\"])\n",
    "@show layer1[1]\n",
    "@show layer1[2]\n",
    ";"
   ]
  },
  {
   "cell_type": "code",
   "execution_count": 5,
   "metadata": {},
   "outputs": [
    {
     "name": "stdout",
     "output_type": "stream",
     "text": [
      "layer2[1] = ITensor ord=3\n",
      "Dim 1: (dim=2|id=360|\"Qubit,Site,n=1\")'\n",
      "Dim 2: (dim=2|id=360|\"Qubit,Site,n=1\")\n",
      "Dim 3: (dim=1|id=688|\"Link,l=1\")\n",
      "NDTensors.Dense{Float64, Vector{Float64}}\n",
      " 2×2×1\n",
      "[:, :, 1] =\n",
      " 0.0                 0.9999999999999998\n",
      " 0.9999999999999998  0.0\n",
      "layer2[2] = ITensor ord=3\n",
      "Dim 1: (dim=2|id=894|\"Qubit,Site,n=2\")'\n",
      "Dim 2: (dim=2|id=894|\"Qubit,Site,n=2\")\n",
      "Dim 3: (dim=1|id=688|\"Link,l=1\")\n",
      "NDTensors.Dense{Float64, Vector{Float64}}\n",
      " 2×2×1\n",
      "[:, :, 1] =\n",
      " 1.0  0.0\n",
      " 0.0  1.0\n"
     ]
    }
   ],
   "source": [
    "layer2 = MPO(sites, [\"X\", \"I\"])\n",
    "@show layer2[1]\n",
    "@show layer2[2]\n",
    ";"
   ]
  },
  {
   "cell_type": "code",
   "execution_count": 6,
   "metadata": {},
   "outputs": [
    {
     "name": "stdout",
     "output_type": "stream",
     "text": [
      "layer12[1] = ITensor ord=3\n",
      "Dim 1: (dim=2|id=360|\"Qubit,Site,n=1\")'\n",
      "Dim 2: (dim=2|id=360|\"Qubit,Site,n=1\")\n",
      "Dim 3: (dim=1|id=617|\"Link,l=1\")\n",
      "NDTensors.Dense{Float64, Vector{Float64}}\n",
      " 2×2×1\n",
      "[:, :, 1] =\n",
      " -0.9999999999999993   0.9999999999999998\n",
      " -0.9999999999999998  -0.9999999999999998\n",
      "layer12[2] = ITensor ord=3\n",
      "Dim 1: (dim=2|id=894|\"Qubit,Site,n=2\")'\n",
      "Dim 2: (dim=2|id=894|\"Qubit,Site,n=2\")\n",
      "Dim 3: (dim=1|id=617|\"Link,l=1\")\n",
      "NDTensors.Dense{Float64, Vector{Float64}}\n",
      " 2×2×1\n",
      "[:, :, 1] =\n",
      " -0.7071067811865475   0.0\n",
      "  0.0                 -0.7071067811865475\n"
     ]
    },
    {
     "data": {
      "text/plain": [
       "ITensor ord=3 (dim=2|id=894|\"Qubit,Site,n=2\")' (dim=2|id=894|\"Qubit,Site,n=2\") (dim=1|id=617|\"Link,l=1\")\n",
       "NDTensors.Dense{Float64, Vector{Float64}}"
      ]
     },
     "execution_count": 6,
     "metadata": {},
     "output_type": "execute_result"
    }
   ],
   "source": [
    "layer12 = synthesize(layer1, layer2)\n",
    "@show layer12[1]\n",
    "@show layer12[2]"
   ]
  },
  {
   "cell_type": "code",
   "execution_count": 7,
   "metadata": {},
   "outputs": [
    {
     "data": {
      "text/plain": [
       "MPS\n",
       "[1] ((dim=2|id=360|\"Qubit,Site,n=1\"), (dim=2|id=325|\"Link,l=1\"))\n",
       "[2] ((dim=2|id=325|\"Link,l=1\"), (dim=2|id=894|\"Qubit,Site,n=2\"))\n"
      ]
     },
     "execution_count": 7,
     "metadata": {},
     "output_type": "execute_result"
    }
   ],
   "source": [
    "# Create a random MPS with bond dimension 4\n",
    "M = randomMPS(sites; linkdims=4)"
   ]
  },
  {
   "cell_type": "code",
   "execution_count": 8,
   "metadata": {},
   "outputs": [
    {
     "data": {
      "text/plain": [
       "2×2 Matrix{Float64}:\n",
       " -0.811272  -0.366202\n",
       "  0.41275   -0.193318"
      ]
     },
     "execution_count": 8,
     "metadata": {},
     "output_type": "execute_result"
    }
   ],
   "source": [
    "# Apply layer1 and layer2 to M in this order\n",
    "res = apply(layer2, apply(layer1, M; cutoff=1e-20); cutoff=1e-20)\n",
    "\n",
    "# To Julia Array: (qubit1, qubit2)\n",
    "res_arr = Array(reduce(*, res), sites)"
   ]
  },
  {
   "cell_type": "code",
   "execution_count": 9,
   "metadata": {},
   "outputs": [
    {
     "data": {
      "text/plain": [
       "2×2 Matrix{Float64}:\n",
       " -0.811272  -0.366202\n",
       "  0.41275   -0.193318"
      ]
     },
     "execution_count": 9,
     "metadata": {},
     "output_type": "execute_result"
    }
   ],
   "source": [
    "# Apply layer1 and layer2 to M in this order\n",
    "res2 = apply(layer12, M; cutoff=1e-20) \n",
    "\n",
    "# To Julia Array: (qubit1, qubit2)\n",
    "res2_arr = Array(reduce(*, res2), sites)"
   ]
  },
  {
   "cell_type": "code",
   "execution_count": 10,
   "metadata": {},
   "outputs": [
    {
     "data": {
      "text/plain": [
       "MPO\n",
       "[1] ((dim=3|id=184|\"Link,l=1\"), (dim=2|id=360|\"Qubit,Site,n=1\")', (dim=2|id=360|\"Qubit,Site,n=1\"))\n",
       "[2] ((dim=3|id=184|\"Link,l=1\"), (dim=2|id=894|\"Qubit,Site,n=2\")', (dim=2|id=894|\"Qubit,Site,n=2\"))\n"
      ]
     },
     "execution_count": 10,
     "metadata": {},
     "output_type": "execute_result"
    }
   ],
   "source": [
    "# Create Z_1 X_2\n",
    "# See: https://github.com/ITensor/ITensors.jl/blob/main/src/mps/mpo.jl#L69\n",
    "os = Prod{Op}()\n",
    "os *= Op(\"Z\", 1)\n",
    "os *= Op(\"X\", 2)\n",
    "MPO(os, sites)"
   ]
  },
  {
   "cell_type": "code",
   "execution_count": 11,
   "metadata": {},
   "outputs": [
    {
     "data": {
      "text/plain": [
       "MPO\n",
       "[1] ((dim=3|id=224|\"Link,l=1\"), (dim=2|id=360|\"Qubit,Site,n=1\")', (dim=2|id=360|\"Qubit,Site,n=1\"))\n",
       "[2] ((dim=3|id=224|\"Link,l=1\"), (dim=2|id=894|\"Qubit,Site,n=2\")', (dim=2|id=894|\"Qubit,Site,n=2\"))\n"
      ]
     },
     "execution_count": 11,
     "metadata": {},
     "output_type": "execute_result"
    }
   ],
   "source": [
    "# Create Z_1\n",
    "MPO(Op(\"Z\", 1), sites)"
   ]
  },
  {
   "cell_type": "code",
   "execution_count": 12,
   "metadata": {},
   "outputs": [
    {
     "data": {
      "text/plain": [
       "MPO\n",
       "[1] ((dim=2|id=360|\"Qubit,Site,n=1\")', (dim=2|id=360|\"Qubit,Site,n=1\"), (dim=4|id=398|\"Link,n=1\"))\n",
       "[2] ((dim=4|id=398|\"Link,n=1\"), (dim=2|id=894|\"Qubit,Site,n=2\")', (dim=2|id=894|\"Qubit,Site,n=2\"))\n"
      ]
     },
     "execution_count": 12,
     "metadata": {},
     "output_type": "execute_result"
    }
   ],
   "source": [
    "# Control: 1\n",
    "# Target: 2\n",
    "cnot = op(\"CNOT\", sites, 1, 2)\n",
    "MPO(cnot, sites)"
   ]
  },
  {
   "cell_type": "code",
   "execution_count": 13,
   "metadata": {},
   "outputs": [
    {
     "name": "stdout",
     "output_type": "stream",
     "text": [
      "mps[1] = ITensor ord=2\n",
      "Dim 1: (dim=2|id=360|\"Qubit,Site,n=1\")\n",
      "Dim 2: (dim=1|id=897|\"Link,l=1\")\n",
      "NDTensors.Dense{Float64, Vector{Float64}}\n",
      " 2×1\n",
      " 0.0\n",
      " 1.0\n",
      "mps[2] = ITensor ord=2\n",
      "Dim 1: (dim=1|id=897|\"Link,l=1\")\n",
      "Dim 2: (dim=2|id=894|\"Qubit,Site,n=2\")\n",
      "NDTensors.Dense{Float64, Vector{Float64}}\n",
      " 1×2\n",
      " 1.0  0.0\n"
     ]
    },
    {
     "data": {
      "text/plain": [
       "ITensor ord=2 (dim=1|id=897|\"Link,l=1\") (dim=2|id=894|\"Qubit,Site,n=2\")\n",
       "NDTensors.Dense{Float64, Vector{Float64}}"
      ]
     },
     "execution_count": 13,
     "metadata": {},
     "output_type": "execute_result"
    }
   ],
   "source": [
    "mps = MPS(sites, [\"1\", \"0\"])\n",
    "@show mps[1]\n",
    "@show mps[2]"
   ]
  },
  {
   "cell_type": "code",
   "execution_count": 14,
   "metadata": {},
   "outputs": [
    {
     "data": {
      "text/plain": [
       "MPS\n",
       "[1] ((dim=2|id=360|\"Qubit,Site,n=1\"), (dim=1|id=460|\"Link,l=1\"))\n",
       "[2] ((dim=1|id=460|\"Link,l=1\"), (dim=2|id=894|\"Qubit,Site,n=2\"))\n"
      ]
     },
     "execution_count": 14,
     "metadata": {},
     "output_type": "execute_result"
    }
   ],
   "source": [
    "MPS(sites, \"1\")"
   ]
  },
  {
   "cell_type": "code",
   "execution_count": 40,
   "metadata": {},
   "outputs": [
    {
     "data": {
      "text/plain": [
       "3-element Vector{Index{Int64}}:\n",
       " (dim=1|id=877|\"Link,l=1\")\n",
       " (dim=1|id=514|\"Link,l=2\")\n",
       " (dim=1|id=359|\"Link,l=3\")"
      ]
     },
     "execution_count": 40,
     "metadata": {},
     "output_type": "execute_result"
    }
   ],
   "source": [
    "sites = [Index(2, \"Qubit, site=$s\") for s in 1:4]\n",
    "\n",
    "function onemps(::Type{T}, sites) where {T<:Number}\n",
    "    M = MPS(T, sites; linkdims=1)\n",
    "    l = linkinds(M)\n",
    "    for n in eachindex(M)\n",
    "        if n == 1\n",
    "            M[n] = ITensor(T, sites[n], l[n])\n",
    "        elseif n == length(M)\n",
    "            M[n] = ITensor(T, l[n-1], sites[n])\n",
    "        else\n",
    "            M[n] = ITensor(T, l[n-1], sites[n], l[n])\n",
    "        end\n",
    "        M[n] .= one(T)\n",
    "    end\n",
    "    return M\n",
    "end\n",
    "\n",
    "M = onemps(Float64, sites)\n",
    "M[1]\n",
    "linkinds(M)"
   ]
  },
  {
   "cell_type": "code",
   "execution_count": 42,
   "metadata": {},
   "outputs": [
    {
     "data": {
      "text/plain": [
       "2×2×2×2 Array{Float64, 4}:\n",
       "[:, :, 1, 1] =\n",
       " 1.0  1.0\n",
       " 1.0  1.0\n",
       "\n",
       "[:, :, 2, 1] =\n",
       " 1.0  1.0\n",
       " 1.0  1.0\n",
       "\n",
       "[:, :, 1, 2] =\n",
       " 1.0  1.0\n",
       " 1.0  1.0\n",
       "\n",
       "[:, :, 2, 2] =\n",
       " 1.0  1.0\n",
       " 1.0  1.0"
      ]
     },
     "execution_count": 42,
     "metadata": {},
     "output_type": "execute_result"
    }
   ],
   "source": [
    "Array(reduce(*, M), sites)"
   ]
  },
  {
   "cell_type": "code",
   "execution_count": null,
   "metadata": {},
   "outputs": [],
   "source": []
  }
 ],
 "metadata": {
  "kernelspec": {
   "display_name": "Julia 1.8.1",
   "language": "julia",
   "name": "julia-1.8"
  },
  "language_info": {
   "file_extension": ".jl",
   "mimetype": "application/julia",
   "name": "julia",
   "version": "1.8.1"
  },
  "orig_nbformat": 4,
  "vscode": {
   "interpreter": {
    "hash": "31f2aee4e71d21fbe5cf8b01ff0e069b9275f58929596ceb00d14d90e3e16cd6"
   }
  }
 },
 "nbformat": 4,
 "nbformat_minor": 2
}
