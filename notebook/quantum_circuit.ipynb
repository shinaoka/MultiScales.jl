{
 "cells": [
  {
   "cell_type": "code",
   "execution_count": null,
   "metadata": {},
   "outputs": [],
   "source": [
    "using ITensors"
   ]
  },
  {
   "cell_type": "code",
   "execution_count": null,
   "metadata": {},
   "outputs": [],
   "source": [
    "\"\"\"\n",
    "Synthesize two MPO as M2 * M1.\n",
    "When using the synthesized MPO, M1 will be applied to a MPS first, then M2.\n",
    "\"\"\"\n",
    "function synthesize(M1::MPO, M2::MPO)\n",
    "    M21 = contract(prime(M2), M1)\n",
    "    prime(M21, -1, plev=2)\n",
    "end"
   ]
  },
  {
   "cell_type": "code",
   "execution_count": null,
   "metadata": {},
   "outputs": [],
   "source": [
    "# Use two qubits\n",
    "nqubit = 2\n",
    "\n",
    "# Create site indices\n",
    "sites = siteinds(\"Qubit\", nqubit)"
   ]
  },
  {
   "cell_type": "code",
   "execution_count": null,
   "metadata": {},
   "outputs": [],
   "source": [
    "# Hadamard gate at qubit1, identity gate at qubit 2\n",
    "# (dim=2|id=666|\"Qubit,Site,n=1\")が状態に作用して、(dim=2|id=666|\"Qubit,Site,n=1\")'が出力\n",
    "layer1 = MPO(sites, [\"H\", \"I\"])\n",
    "@show layer1[1]\n",
    "@show layer1[2]\n",
    ";"
   ]
  },
  {
   "cell_type": "code",
   "execution_count": null,
   "metadata": {},
   "outputs": [],
   "source": [
    "layer2 = MPO(sites, [\"X\", \"I\"])\n",
    "@show layer2[1]\n",
    "@show layer2[2]\n",
    ";"
   ]
  },
  {
   "cell_type": "code",
   "execution_count": null,
   "metadata": {},
   "outputs": [],
   "source": [
    "layer12 = synthesize(layer1, layer2)\n",
    "@show layer12[1]\n",
    "@show layer12[2]"
   ]
  },
  {
   "cell_type": "code",
   "execution_count": null,
   "metadata": {},
   "outputs": [],
   "source": [
    "# Create a random MPS with bond dimension 4\n",
    "M = randomMPS(sites; linkdims=4)"
   ]
  },
  {
   "cell_type": "code",
   "execution_count": null,
   "metadata": {},
   "outputs": [],
   "source": [
    "# Apply layer1 and layer2 to M in this order\n",
    "res = apply(layer2, apply(layer1, M; cutoff=1e-20); cutoff=1e-20)\n",
    "\n",
    "# To Julia Array: (qubit1, qubit2)\n",
    "res_arr = Array(reduce(*, res), sites)"
   ]
  },
  {
   "cell_type": "code",
   "execution_count": null,
   "metadata": {},
   "outputs": [],
   "source": [
    "# Apply layer1 and layer2 to M in this order\n",
    "res2 = apply(layer12, M; cutoff=1e-20) \n",
    "\n",
    "# To Julia Array: (qubit1, qubit2)\n",
    "res2_arr = Array(reduce(*, res2), sites)"
   ]
  },
  {
   "cell_type": "code",
   "execution_count": null,
   "metadata": {},
   "outputs": [],
   "source": [
    "# Create Z_1 X_2\n",
    "# See: https://github.com/ITensor/ITensors.jl/blob/main/src/mps/mpo.jl#L69\n",
    "os = Prod{Op}()\n",
    "os *= Op(\"Z\", 1)\n",
    "os *= Op(\"X\", 2)\n",
    "MPO(os, sites)"
   ]
  },
  {
   "cell_type": "code",
   "execution_count": null,
   "metadata": {},
   "outputs": [],
   "source": [
    "# Create Z_1\n",
    "MPO(Op(\"Z\", 1), sites)"
   ]
  },
  {
   "cell_type": "code",
   "execution_count": null,
   "metadata": {},
   "outputs": [],
   "source": [
    "# Control: 1\n",
    "# Target: 2\n",
    "cnot = op(\"CNOT\", sites, 1, 2)\n",
    "MPO(cnot, sites)"
   ]
  },
  {
   "cell_type": "code",
   "execution_count": null,
   "metadata": {},
   "outputs": [],
   "source": [
    "mps = MPS(sites, [\"1\", \"0\"])\n",
    "@show mps[1]\n",
    "@show mps[2]"
   ]
  },
  {
   "cell_type": "code",
   "execution_count": null,
   "metadata": {},
   "outputs": [],
   "source": []
  }
 ],
 "metadata": {
  "kernelspec": {
   "display_name": "Julia 1.7.2",
   "language": "julia",
   "name": "julia-1.7"
  },
  "language_info": {
   "file_extension": ".jl",
   "mimetype": "application/julia",
   "name": "julia",
   "version": "1.7.2"
  },
  "orig_nbformat": 4,
  "vscode": {
   "interpreter": {
    "hash": "31f2aee4e71d21fbe5cf8b01ff0e069b9275f58929596ceb00d14d90e3e16cd6"
   }
  }
 },
 "nbformat": 4,
 "nbformat_minor": 2
}
